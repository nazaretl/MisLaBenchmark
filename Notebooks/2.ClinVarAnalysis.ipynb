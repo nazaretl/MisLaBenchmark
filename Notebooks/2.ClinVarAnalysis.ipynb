{
 "cells": [
  {
   "cell_type": "markdown",
   "id": "4b7d51eb",
   "metadata": {},
   "source": [
    "### Packages and funtions"
   ]
  },
  {
   "cell_type": "code",
   "execution_count": 1,
   "id": "775aa91b",
   "metadata": {
    "ExecuteTime": {
     "end_time": "2022-07-07T10:43:48.569950Z",
     "start_time": "2022-07-07T10:43:48.560752Z"
    }
   },
   "outputs": [],
   "source": [
    "import os\n",
    "os.chdir('..')"
   ]
  },
  {
   "cell_type": "code",
   "execution_count": 2,
   "id": "5947add9",
   "metadata": {
    "ExecuteTime": {
     "end_time": "2022-07-07T10:43:49.107644Z",
     "start_time": "2022-07-07T10:43:48.738588Z"
    }
   },
   "outputs": [
    {
     "data": {
      "text/plain": [
       "'/fast/work/groups/ag_kircher/MisLa/MisLaProject'"
      ]
     },
     "execution_count": 2,
     "metadata": {},
     "output_type": "execute_result"
    }
   ],
   "source": [
    "import pandas as pd\n",
    "os.getcwd()"
   ]
  },
  {
   "cell_type": "code",
   "execution_count": 3,
   "id": "0f458d9f",
   "metadata": {
    "ExecuteTime": {
     "end_time": "2022-07-07T10:43:49.719495Z",
     "start_time": "2022-07-07T10:43:49.344793Z"
    }
   },
   "outputs": [],
   "source": [
    "import pandas as pd\n",
    "pd.set_option('display.max_columns', 200)\n",
    "pd.set_option('display.max_rows', 200)\n",
    "import sys\n",
    "import numpy as np\n",
    "import os\n",
    "\n",
    "sys.path.insert(0, 'utils/')\n",
    "\n",
    "\n",
    "#conda install -c conda-forge jupyter-resource-usage\n",
    "from utils import *\n",
    "\n",
    "import numpy as np\n",
    "np.seterr(divide='ignore', invalid='ignore')\n",
    "np.set_printoptions(suppress=True)\n",
    "pd.options.display.float_format = \"{:,.2f}\".format"
   ]
  },
  {
   "cell_type": "code",
   "execution_count": null,
   "id": "a884b747",
   "metadata": {
    "ExecuteTime": {
     "end_time": "2022-07-07T07:45:57.488423Z",
     "start_time": "2022-07-07T07:45:57.488409Z"
    }
   },
   "outputs": [],
   "source": [
    "def blockPrint():\n",
    "    sys.stdout = open(os.devnull, 'w')\n",
    "def enablePrint():\n",
    "    sys.stdout = sys.__stdout__\n",
    "\n",
    "    \n",
    "#del sys.modules['XGBoost']\n",
    "import inspect as i\n",
    "import sys\n",
    "#sys.stdout.write(i.getsource(applyModel))"
   ]
  },
  {
   "cell_type": "markdown",
   "id": "d06cc028",
   "metadata": {
    "heading_collapsed": true
   },
   "source": [
    "### Funtions"
   ]
  },
  {
   "cell_type": "code",
   "execution_count": null,
   "id": "44cab7e1",
   "metadata": {
    "ExecuteTime": {
     "end_time": "2022-07-07T07:45:57.489379Z",
     "start_time": "2022-07-07T07:45:57.489358Z"
    },
    "hidden": true
   },
   "outputs": [],
   "source": [
    "def prepareData(df):\n",
    "    \n",
    "    df = df[~df.index.isna()]\n",
    "    df = df.fillna(0)\n",
    "    ## delete all columns with strings\n",
    "    ind = df.dtypes[(df.dtypes=='int64')|(df.dtypes=='float64')].index\n",
    "    return df[ind]   \n",
    "\n",
    "\n",
    "def getLabels(df):\n",
    "    LabelOld = df['Labels'].str[0]\n",
    "    LabelOld.name = 'LabelOld'\n",
    "    LabelNew = df['Labels'].str[-1]\n",
    "    LabelNew.name = 'LabelNew'\n",
    "    return [LabelOld,LabelNew]\n",
    "\n",
    "def deleteConflicting(df):\n",
    "    df = df[~df['LabelOld'].str.contains('Conflicting',na = False)]\n",
    "    df = df[~df['LabelNew'].str.contains('Conflicting',na = False)]\n",
    "    return df"
   ]
  },
  {
   "cell_type": "code",
   "execution_count": null,
   "id": "10904597",
   "metadata": {
    "ExecuteTime": {
     "end_time": "2021-08-20T09:04:17.588213Z",
     "start_time": "2021-08-20T09:04:17.552874Z"
    },
    "hidden": true
   },
   "outputs": [],
   "source": [
    "def applyModel(dataset):\n",
    "    import pandas\n",
    "    import matplotlib.pyplot as plt\n",
    "    from sklearn import model_selection\n",
    "    from sklearn.linear_model import LogisticRegression\n",
    "    from sklearn.tree import DecisionTreeClassifier\n",
    "    from sklearn.neighbors import KNeighborsClassifier\n",
    "    from sklearn.discriminant_analysis import LinearDiscriminantAnalysis\n",
    "    from sklearn.naive_bayes import GaussianNB\n",
    "    from sklearn.svm import SVC\n",
    "\n",
    "    # prepare configuration for cross validation test harness\n",
    "    seed = 7\n",
    "    # prepare models\n",
    "    models = []\n",
    "    #models.append(('LR', LogisticRegression()))\n",
    "    models.append(('LDA', LinearDiscriminantAnalysis()))\n",
    "    #models.append(('KNN', KNeighborsClassifier()))\n",
    "    #models.append(('CART', DecisionTreeClassifier()))\n",
    "    #models.append(('NB', GaussianNB()))\n",
    "    #models.append(('SVM', SVC()))\n",
    "\n",
    "    dataset = dataset[~dataset.index.isna()]\n",
    "    ind = dataset.dtypes[(dataset.dtypes=='int64')|(dataset.dtypes=='float64')].index\n",
    "    dataset = dataset[ind]\n",
    "    dataset = dataset.fillna(0)\n",
    "\n",
    "    X = dataset.values\n",
    "    Y = dataset.index\n",
    "    results = []\n",
    "    names = []\n",
    "    scoring = 'accuracy'\n",
    "    for name, model in models:\n",
    "        kfold = model_selection.KFold(n_splits=3, random_state=seed,shuffle=True)\n",
    "        cv_results = model_selection.cross_val_score(model, X, Y, cv=kfold, scoring=scoring)\n",
    "        results.append(cv_results)\n",
    "        names.append(name)\n",
    "        msg = \"%s: %f (%f)\" % (name, cv_results.mean(), cv_results.std())\n",
    "        #print(msg)\n",
    "    return round(cv_results.mean(), 4)\n",
    "\n",
    "\n",
    "    \n",
    "from sklearn.utils import resample\n",
    "\n",
    "def balance_data(dataset, x, up = True):\n",
    "\n",
    "    temp = dataset[x].value_counts()\n",
    "    sets = temp.index\n",
    "    df_resampled = pd.DataFrame()\n",
    "    for m in sets:\n",
    "        #  smote = SMOTE(sampling_strategy='minority')\n",
    "      #  X_sm, y_sm = smote.fit_resample(X, y)\n",
    "\n",
    "        df = dataset[dataset[x]==m]\n",
    "        if up ==True:\n",
    "            n = temp.max()\n",
    "        else:\n",
    "            n =temp.min()\n",
    "            \n",
    "        df_temp = resample(df, replace=True,    \n",
    "                          n_samples=n, random_state=123) \n",
    "        df_resampled = df_resampled.append(df_temp)\n",
    "\n",
    "    return df_resampled#.reset_index(drop = True)\n",
    "\n",
    "\n",
    "def getAcc(data, label, cat, balance,up):\n",
    "    \n",
    "    ind = data[label].replace(cs)\n",
    "    data.index = ind\n",
    "    data = data[data.index.isin(cat)]\n",
    "    #l = data[label].value_counts(normalize = True).round(3).to_dict() #(list(map(cs_inv.get, cat)\n",
    "    \n",
    "    if balance == True:\n",
    "        data = balance_data(data, label,up)\n",
    "    \n",
    "    ratio = data[label].value_counts().to_dict()\n",
    "\n",
    "    data = prepareData(data).iloc[:,7:]\n",
    "    #data = data.drop(columns = ['LabelNew','LabelOld'])   \n",
    "    print('Cathegories: %s - Label: %s - Dataset size: %s'  % (ratio, label, len(data)))\n",
    "    acc = applyModel(data)\n",
    "    print('CV accuracy: ', acc)\n",
    "    return acc, ratio\n"
   ]
  },
  {
   "cell_type": "markdown",
   "id": "d7ea2e57",
   "metadata": {
    "heading_collapsed": true
   },
   "source": [
    "### Text"
   ]
  },
  {
   "cell_type": "raw",
   "id": "80565b1c",
   "metadata": {
    "hidden": true
   },
   "source": [
    "NCAR, NAR, NNAR?### Next steps \n",
    "- Test different models with correct and false labels: does it make a difference?\n",
    "- Try out existing models for correcting labels (cleanlab)\n",
    "-- Use the ClinVar dataset  \n",
    "-- Benchmark datasets\n",
    "\n",
    "\n",
    "- Define annotations that will be used, use release notes\n",
    "\n",
    "Literature:\n",
    "- https://aminey.medium.com/how-to-train-ml-models-with-mislabeled-data-cf4bb353b3d9\n",
    "- https://github.com/subeeshvasu/Awesome-Learning-with-Label-Noise\n",
    "\n",
    "\n",
    "Many approaches, main focus is to improve the prediction accuracy of learners. Few approaches for filtering mislabeled data.\n",
    "\n",
    "Try:\n",
    "- train and validate with Old and New labels\n",
    "- Noise the New labels, train and validate. Is there a difference?\n",
    "- The learner might leatn the noise matrix\n",
    "\n",
    "\n",
    "Try:\n",
    "- train and validate with Old and New labels\n",
    "- Noise the New labels, train and validate. Is there a difference?\n",
    "- The learner might learn the noise matrix\n",
    "\n",
    "- Delete ClinSigSimple (corr 0.53) and dbscSNV-ada_score (0.35)\n",
    "\n",
    "\n",
    "What kind of noise in ClinVar: NCAR, NAR, NNAR?\n",
    "Prevalance Feature as from Identification of Misclassified ClinVar Variants via Disease Population Prevalence\n",
    "Noise layer in NN"
   ]
  },
  {
   "cell_type": "markdown",
   "id": "ff415cb8",
   "metadata": {
    "ExecuteTime": {
     "end_time": "2021-05-17T14:08:03.945558Z",
     "start_time": "2021-05-17T14:08:03.941507Z"
    }
   },
   "source": [
    "### Get labels"
   ]
  },
  {
   "cell_type": "code",
   "execution_count": 7,
   "id": "c40b9a81",
   "metadata": {
    "ExecuteTime": {
     "end_time": "2022-07-07T09:02:14.018494Z",
     "start_time": "2022-07-07T09:02:13.991272Z"
    },
    "collapsed": true
   },
   "outputs": [
    {
     "ename": "FileNotFoundError",
     "evalue": "[Errno 2] No such file or directory: 'data/GRCh38/PU/variants/annotation/SNV.anno.tsv.gz'",
     "output_type": "error",
     "traceback": [
      "\u001b[0;31m---------------------------------------------------------------------------\u001b[0m",
      "\u001b[0;31mFileNotFoundError\u001b[0m                         Traceback (most recent call last)",
      "\u001b[0;32m/data/gpfs-1/scratch/users/nazaretl_c/tmp/ipykernel_2262327/1831850266.py\u001b[0m in \u001b[0;36m<module>\u001b[0;34m\u001b[0m\n\u001b[1;32m      2\u001b[0m \u001b[0mfile\u001b[0m \u001b[0;34m=\u001b[0m \u001b[0;34m'data/GRCh38/PU/variants/annotation/SNV.anno.tsv.gz'\u001b[0m\u001b[0;34m\u001b[0m\u001b[0;34m\u001b[0m\u001b[0m\n\u001b[1;32m      3\u001b[0m \u001b[0;34m\u001b[0m\u001b[0m\n\u001b[0;32m----> 4\u001b[0;31m \u001b[0mdf\u001b[0m \u001b[0;34m=\u001b[0m \u001b[0mpd\u001b[0m\u001b[0;34m.\u001b[0m\u001b[0mread_csv\u001b[0m\u001b[0;34m(\u001b[0m\u001b[0mfile\u001b[0m\u001b[0;34m,\u001b[0m \u001b[0msep\u001b[0m \u001b[0;34m=\u001b[0m \u001b[0;34m'\\t'\u001b[0m\u001b[0;34m,\u001b[0m \u001b[0mlow_memory\u001b[0m\u001b[0;34m=\u001b[0m\u001b[0;32mFalse\u001b[0m\u001b[0;34m)\u001b[0m\u001b[0;34m\u001b[0m\u001b[0;34m\u001b[0m\u001b[0m\n\u001b[0m\u001b[1;32m      5\u001b[0m \u001b[0mdf\u001b[0m\u001b[0;34m.\u001b[0m\u001b[0mindex\u001b[0m \u001b[0;34m=\u001b[0m \u001b[0mdf\u001b[0m\u001b[0;34m[\u001b[0m\u001b[0;34m'#Chrom'\u001b[0m\u001b[0;34m]\u001b[0m\u001b[0;34m.\u001b[0m\u001b[0mastype\u001b[0m\u001b[0;34m(\u001b[0m\u001b[0mstr\u001b[0m\u001b[0;34m)\u001b[0m \u001b[0;34m+\u001b[0m \u001b[0;34m'-'\u001b[0m \u001b[0;34m+\u001b[0m \u001b[0mdf\u001b[0m\u001b[0;34m[\u001b[0m\u001b[0;34m'Pos'\u001b[0m\u001b[0;34m]\u001b[0m\u001b[0;34m.\u001b[0m\u001b[0mastype\u001b[0m\u001b[0;34m(\u001b[0m\u001b[0mstr\u001b[0m\u001b[0;34m)\u001b[0m \u001b[0;34m+\u001b[0m\u001b[0;34m'-'\u001b[0m\u001b[0;31m \u001b[0m\u001b[0;31m\\\u001b[0m\u001b[0;34m\u001b[0m\u001b[0;34m\u001b[0m\u001b[0m\n\u001b[1;32m      6\u001b[0m             \u001b[0;34m+\u001b[0m \u001b[0mdf\u001b[0m\u001b[0;34m[\u001b[0m\u001b[0;34m'Ref'\u001b[0m\u001b[0;34m]\u001b[0m \u001b[0;34m+\u001b[0m\u001b[0;34m'-'\u001b[0m \u001b[0;34m+\u001b[0m \u001b[0mdf\u001b[0m\u001b[0;34m[\u001b[0m\u001b[0;34m'Alt'\u001b[0m\u001b[0;34m]\u001b[0m\u001b[0;34m\u001b[0m\u001b[0;34m\u001b[0m\u001b[0m\n",
      "\u001b[0;32m~/work/miniconda/lib/python3.7/site-packages/pandas/io/parsers.py\u001b[0m in \u001b[0;36mread_csv\u001b[0;34m(filepath_or_buffer, sep, delimiter, header, names, index_col, usecols, squeeze, prefix, mangle_dupe_cols, dtype, engine, converters, true_values, false_values, skipinitialspace, skiprows, skipfooter, nrows, na_values, keep_default_na, na_filter, verbose, skip_blank_lines, parse_dates, infer_datetime_format, keep_date_col, date_parser, dayfirst, cache_dates, iterator, chunksize, compression, thousands, decimal, lineterminator, quotechar, quoting, doublequote, escapechar, comment, encoding, dialect, error_bad_lines, warn_bad_lines, delim_whitespace, low_memory, memory_map, float_precision, storage_options)\u001b[0m\n\u001b[1;32m    608\u001b[0m     \u001b[0mkwds\u001b[0m\u001b[0;34m.\u001b[0m\u001b[0mupdate\u001b[0m\u001b[0;34m(\u001b[0m\u001b[0mkwds_defaults\u001b[0m\u001b[0;34m)\u001b[0m\u001b[0;34m\u001b[0m\u001b[0;34m\u001b[0m\u001b[0m\n\u001b[1;32m    609\u001b[0m \u001b[0;34m\u001b[0m\u001b[0m\n\u001b[0;32m--> 610\u001b[0;31m     \u001b[0;32mreturn\u001b[0m \u001b[0m_read\u001b[0m\u001b[0;34m(\u001b[0m\u001b[0mfilepath_or_buffer\u001b[0m\u001b[0;34m,\u001b[0m \u001b[0mkwds\u001b[0m\u001b[0;34m)\u001b[0m\u001b[0;34m\u001b[0m\u001b[0;34m\u001b[0m\u001b[0m\n\u001b[0m\u001b[1;32m    611\u001b[0m \u001b[0;34m\u001b[0m\u001b[0m\n\u001b[1;32m    612\u001b[0m \u001b[0;34m\u001b[0m\u001b[0m\n",
      "\u001b[0;32m~/work/miniconda/lib/python3.7/site-packages/pandas/io/parsers.py\u001b[0m in \u001b[0;36m_read\u001b[0;34m(filepath_or_buffer, kwds)\u001b[0m\n\u001b[1;32m    460\u001b[0m \u001b[0;34m\u001b[0m\u001b[0m\n\u001b[1;32m    461\u001b[0m     \u001b[0;31m# Create the parser.\u001b[0m\u001b[0;34m\u001b[0m\u001b[0;34m\u001b[0m\u001b[0;34m\u001b[0m\u001b[0m\n\u001b[0;32m--> 462\u001b[0;31m     \u001b[0mparser\u001b[0m \u001b[0;34m=\u001b[0m \u001b[0mTextFileReader\u001b[0m\u001b[0;34m(\u001b[0m\u001b[0mfilepath_or_buffer\u001b[0m\u001b[0;34m,\u001b[0m \u001b[0;34m**\u001b[0m\u001b[0mkwds\u001b[0m\u001b[0;34m)\u001b[0m\u001b[0;34m\u001b[0m\u001b[0;34m\u001b[0m\u001b[0m\n\u001b[0m\u001b[1;32m    463\u001b[0m \u001b[0;34m\u001b[0m\u001b[0m\n\u001b[1;32m    464\u001b[0m     \u001b[0;32mif\u001b[0m \u001b[0mchunksize\u001b[0m \u001b[0;32mor\u001b[0m \u001b[0miterator\u001b[0m\u001b[0;34m:\u001b[0m\u001b[0;34m\u001b[0m\u001b[0;34m\u001b[0m\u001b[0m\n",
      "\u001b[0;32m~/work/miniconda/lib/python3.7/site-packages/pandas/io/parsers.py\u001b[0m in \u001b[0;36m__init__\u001b[0;34m(self, f, engine, **kwds)\u001b[0m\n\u001b[1;32m    817\u001b[0m             \u001b[0mself\u001b[0m\u001b[0;34m.\u001b[0m\u001b[0moptions\u001b[0m\u001b[0;34m[\u001b[0m\u001b[0;34m\"has_index_names\"\u001b[0m\u001b[0;34m]\u001b[0m \u001b[0;34m=\u001b[0m \u001b[0mkwds\u001b[0m\u001b[0;34m[\u001b[0m\u001b[0;34m\"has_index_names\"\u001b[0m\u001b[0;34m]\u001b[0m\u001b[0;34m\u001b[0m\u001b[0;34m\u001b[0m\u001b[0m\n\u001b[1;32m    818\u001b[0m \u001b[0;34m\u001b[0m\u001b[0m\n\u001b[0;32m--> 819\u001b[0;31m         \u001b[0mself\u001b[0m\u001b[0;34m.\u001b[0m\u001b[0m_engine\u001b[0m \u001b[0;34m=\u001b[0m \u001b[0mself\u001b[0m\u001b[0;34m.\u001b[0m\u001b[0m_make_engine\u001b[0m\u001b[0;34m(\u001b[0m\u001b[0mself\u001b[0m\u001b[0;34m.\u001b[0m\u001b[0mengine\u001b[0m\u001b[0;34m)\u001b[0m\u001b[0;34m\u001b[0m\u001b[0;34m\u001b[0m\u001b[0m\n\u001b[0m\u001b[1;32m    820\u001b[0m \u001b[0;34m\u001b[0m\u001b[0m\n\u001b[1;32m    821\u001b[0m     \u001b[0;32mdef\u001b[0m \u001b[0mclose\u001b[0m\u001b[0;34m(\u001b[0m\u001b[0mself\u001b[0m\u001b[0;34m)\u001b[0m\u001b[0;34m:\u001b[0m\u001b[0;34m\u001b[0m\u001b[0;34m\u001b[0m\u001b[0m\n",
      "\u001b[0;32m~/work/miniconda/lib/python3.7/site-packages/pandas/io/parsers.py\u001b[0m in \u001b[0;36m_make_engine\u001b[0;34m(self, engine)\u001b[0m\n\u001b[1;32m   1048\u001b[0m             )\n\u001b[1;32m   1049\u001b[0m         \u001b[0;31m# error: Too many arguments for \"ParserBase\"\u001b[0m\u001b[0;34m\u001b[0m\u001b[0;34m\u001b[0m\u001b[0;34m\u001b[0m\u001b[0m\n\u001b[0;32m-> 1050\u001b[0;31m         \u001b[0;32mreturn\u001b[0m \u001b[0mmapping\u001b[0m\u001b[0;34m[\u001b[0m\u001b[0mengine\u001b[0m\u001b[0;34m]\u001b[0m\u001b[0;34m(\u001b[0m\u001b[0mself\u001b[0m\u001b[0;34m.\u001b[0m\u001b[0mf\u001b[0m\u001b[0;34m,\u001b[0m \u001b[0;34m**\u001b[0m\u001b[0mself\u001b[0m\u001b[0;34m.\u001b[0m\u001b[0moptions\u001b[0m\u001b[0;34m)\u001b[0m  \u001b[0;31m# type: ignore[call-arg]\u001b[0m\u001b[0;34m\u001b[0m\u001b[0;34m\u001b[0m\u001b[0m\n\u001b[0m\u001b[1;32m   1051\u001b[0m \u001b[0;34m\u001b[0m\u001b[0m\n\u001b[1;32m   1052\u001b[0m     \u001b[0;32mdef\u001b[0m \u001b[0m_failover_to_python\u001b[0m\u001b[0;34m(\u001b[0m\u001b[0mself\u001b[0m\u001b[0;34m)\u001b[0m\u001b[0;34m:\u001b[0m\u001b[0;34m\u001b[0m\u001b[0;34m\u001b[0m\u001b[0m\n",
      "\u001b[0;32m~/work/miniconda/lib/python3.7/site-packages/pandas/io/parsers.py\u001b[0m in \u001b[0;36m__init__\u001b[0;34m(self, src, **kwds)\u001b[0m\n\u001b[1;32m   1865\u001b[0m \u001b[0;34m\u001b[0m\u001b[0m\n\u001b[1;32m   1866\u001b[0m         \u001b[0;31m# open handles\u001b[0m\u001b[0;34m\u001b[0m\u001b[0;34m\u001b[0m\u001b[0;34m\u001b[0m\u001b[0m\n\u001b[0;32m-> 1867\u001b[0;31m         \u001b[0mself\u001b[0m\u001b[0;34m.\u001b[0m\u001b[0m_open_handles\u001b[0m\u001b[0;34m(\u001b[0m\u001b[0msrc\u001b[0m\u001b[0;34m,\u001b[0m \u001b[0mkwds\u001b[0m\u001b[0;34m)\u001b[0m\u001b[0;34m\u001b[0m\u001b[0;34m\u001b[0m\u001b[0m\n\u001b[0m\u001b[1;32m   1868\u001b[0m         \u001b[0;32massert\u001b[0m \u001b[0mself\u001b[0m\u001b[0;34m.\u001b[0m\u001b[0mhandles\u001b[0m \u001b[0;32mis\u001b[0m \u001b[0;32mnot\u001b[0m \u001b[0;32mNone\u001b[0m\u001b[0;34m\u001b[0m\u001b[0;34m\u001b[0m\u001b[0m\n\u001b[1;32m   1869\u001b[0m         \u001b[0;32mfor\u001b[0m \u001b[0mkey\u001b[0m \u001b[0;32min\u001b[0m \u001b[0;34m(\u001b[0m\u001b[0;34m\"storage_options\"\u001b[0m\u001b[0;34m,\u001b[0m \u001b[0;34m\"encoding\"\u001b[0m\u001b[0;34m,\u001b[0m \u001b[0;34m\"memory_map\"\u001b[0m\u001b[0;34m,\u001b[0m \u001b[0;34m\"compression\"\u001b[0m\u001b[0;34m)\u001b[0m\u001b[0;34m:\u001b[0m\u001b[0;34m\u001b[0m\u001b[0;34m\u001b[0m\u001b[0m\n",
      "\u001b[0;32m~/work/miniconda/lib/python3.7/site-packages/pandas/io/parsers.py\u001b[0m in \u001b[0;36m_open_handles\u001b[0;34m(self, src, kwds)\u001b[0m\n\u001b[1;32m   1366\u001b[0m             \u001b[0mcompression\u001b[0m\u001b[0;34m=\u001b[0m\u001b[0mkwds\u001b[0m\u001b[0;34m.\u001b[0m\u001b[0mget\u001b[0m\u001b[0;34m(\u001b[0m\u001b[0;34m\"compression\"\u001b[0m\u001b[0;34m,\u001b[0m \u001b[0;32mNone\u001b[0m\u001b[0;34m)\u001b[0m\u001b[0;34m,\u001b[0m\u001b[0;34m\u001b[0m\u001b[0;34m\u001b[0m\u001b[0m\n\u001b[1;32m   1367\u001b[0m             \u001b[0mmemory_map\u001b[0m\u001b[0;34m=\u001b[0m\u001b[0mkwds\u001b[0m\u001b[0;34m.\u001b[0m\u001b[0mget\u001b[0m\u001b[0;34m(\u001b[0m\u001b[0;34m\"memory_map\"\u001b[0m\u001b[0;34m,\u001b[0m \u001b[0;32mFalse\u001b[0m\u001b[0;34m)\u001b[0m\u001b[0;34m,\u001b[0m\u001b[0;34m\u001b[0m\u001b[0;34m\u001b[0m\u001b[0m\n\u001b[0;32m-> 1368\u001b[0;31m             \u001b[0mstorage_options\u001b[0m\u001b[0;34m=\u001b[0m\u001b[0mkwds\u001b[0m\u001b[0;34m.\u001b[0m\u001b[0mget\u001b[0m\u001b[0;34m(\u001b[0m\u001b[0;34m\"storage_options\"\u001b[0m\u001b[0;34m,\u001b[0m \u001b[0;32mNone\u001b[0m\u001b[0;34m)\u001b[0m\u001b[0;34m,\u001b[0m\u001b[0;34m\u001b[0m\u001b[0;34m\u001b[0m\u001b[0m\n\u001b[0m\u001b[1;32m   1369\u001b[0m         )\n\u001b[1;32m   1370\u001b[0m \u001b[0;34m\u001b[0m\u001b[0m\n",
      "\u001b[0;32m~/work/miniconda/lib/python3.7/site-packages/pandas/io/common.py\u001b[0m in \u001b[0;36mget_handle\u001b[0;34m(path_or_buf, mode, encoding, compression, memory_map, is_text, errors, storage_options)\u001b[0m\n\u001b[1;32m    587\u001b[0m                     \u001b[0mfilename\u001b[0m\u001b[0;34m=\u001b[0m\u001b[0mhandle\u001b[0m\u001b[0;34m,\u001b[0m\u001b[0;34m\u001b[0m\u001b[0;34m\u001b[0m\u001b[0m\n\u001b[1;32m    588\u001b[0m                     \u001b[0mmode\u001b[0m\u001b[0;34m=\u001b[0m\u001b[0mioargs\u001b[0m\u001b[0;34m.\u001b[0m\u001b[0mmode\u001b[0m\u001b[0;34m,\u001b[0m\u001b[0;34m\u001b[0m\u001b[0;34m\u001b[0m\u001b[0m\n\u001b[0;32m--> 589\u001b[0;31m                     \u001b[0;34m**\u001b[0m\u001b[0mcompression_args\u001b[0m\u001b[0;34m,\u001b[0m\u001b[0;34m\u001b[0m\u001b[0;34m\u001b[0m\u001b[0m\n\u001b[0m\u001b[1;32m    590\u001b[0m                 )\n\u001b[1;32m    591\u001b[0m             \u001b[0;32melse\u001b[0m\u001b[0;34m:\u001b[0m\u001b[0;34m\u001b[0m\u001b[0;34m\u001b[0m\u001b[0m\n",
      "\u001b[0;32m~/work/miniconda/lib/python3.7/gzip.py\u001b[0m in \u001b[0;36m__init__\u001b[0;34m(self, filename, mode, compresslevel, fileobj, mtime)\u001b[0m\n\u001b[1;32m    166\u001b[0m             \u001b[0mmode\u001b[0m \u001b[0;34m+=\u001b[0m \u001b[0;34m'b'\u001b[0m\u001b[0;34m\u001b[0m\u001b[0;34m\u001b[0m\u001b[0m\n\u001b[1;32m    167\u001b[0m         \u001b[0;32mif\u001b[0m \u001b[0mfileobj\u001b[0m \u001b[0;32mis\u001b[0m \u001b[0;32mNone\u001b[0m\u001b[0;34m:\u001b[0m\u001b[0;34m\u001b[0m\u001b[0;34m\u001b[0m\u001b[0m\n\u001b[0;32m--> 168\u001b[0;31m             \u001b[0mfileobj\u001b[0m \u001b[0;34m=\u001b[0m \u001b[0mself\u001b[0m\u001b[0;34m.\u001b[0m\u001b[0mmyfileobj\u001b[0m \u001b[0;34m=\u001b[0m \u001b[0mbuiltins\u001b[0m\u001b[0;34m.\u001b[0m\u001b[0mopen\u001b[0m\u001b[0;34m(\u001b[0m\u001b[0mfilename\u001b[0m\u001b[0;34m,\u001b[0m \u001b[0mmode\u001b[0m \u001b[0;32mor\u001b[0m \u001b[0;34m'rb'\u001b[0m\u001b[0;34m)\u001b[0m\u001b[0;34m\u001b[0m\u001b[0;34m\u001b[0m\u001b[0m\n\u001b[0m\u001b[1;32m    169\u001b[0m         \u001b[0;32mif\u001b[0m \u001b[0mfilename\u001b[0m \u001b[0;32mis\u001b[0m \u001b[0;32mNone\u001b[0m\u001b[0;34m:\u001b[0m\u001b[0;34m\u001b[0m\u001b[0;34m\u001b[0m\u001b[0m\n\u001b[1;32m    170\u001b[0m             \u001b[0mfilename\u001b[0m \u001b[0;34m=\u001b[0m \u001b[0mgetattr\u001b[0m\u001b[0;34m(\u001b[0m\u001b[0mfileobj\u001b[0m\u001b[0;34m,\u001b[0m \u001b[0;34m'name'\u001b[0m\u001b[0;34m,\u001b[0m \u001b[0;34m''\u001b[0m\u001b[0;34m)\u001b[0m\u001b[0;34m\u001b[0m\u001b[0;34m\u001b[0m\u001b[0m\n",
      "\u001b[0;31mFileNotFoundError\u001b[0m: [Errno 2] No such file or directory: 'data/GRCh38/PU/variants/annotation/SNV.anno.tsv.gz'"
     ]
    }
   ],
   "source": [
    "## get the annotated variants\n",
    "### THIS FILE IS MISSING\n",
    "file = 'data/GRCh38/variants/annotation/SNV.anno.tsv.gz'\n",
    "\n",
    "df = pd.read_csv(file, sep = '\\t', low_memory=False)\n",
    "df.index = df['#Chrom'].astype(str) + '-' + df['Pos'].astype(str) +'-' \\\n",
    "            + df['Ref'] +'-' + df['Alt']\n",
    "\n",
    "## get the dataset created by the ClinVar notebook \n",
    "##  for the future - save all info from this set in the ID column in the VCF file that \n",
    "## will be annotated\n",
    "alle = pd.read_csv('alle.csv', sep = '\\t',index_col = 'Extra', low_memory=False)\n",
    "f = alle.iloc[:,1::2]\n",
    "f = f.T\n",
    "# unique keeps the order of the labels occurance\n",
    "aa = f.apply(lambda x: x.dropna().unique())\n",
    "\n",
    "aa.name = 'Labels'\n",
    "ff =  df.join(aa,how = 'inner')\n",
    "# delete duplicates (keep those with max ConsScore)\n",
    "ff = ff.reset_index()\n",
    "ff.index = list(range(len(ff)))\n",
    "gr = ff.groupby(ff['index'])['ConsScore'].idxmax()\n",
    "joined = ff.loc[gr,:]\n",
    "\n",
    "joined = joined.set_index('index')\n"
   ]
  },
  {
   "cell_type": "markdown",
   "id": "7f1ec850",
   "metadata": {},
   "source": [
    "### Create final dataset "
   ]
  },
  {
   "cell_type": "code",
   "execution_count": 4,
   "id": "b4f49bcc",
   "metadata": {
    "ExecuteTime": {
     "end_time": "2022-07-07T10:44:30.276570Z",
     "start_time": "2022-07-07T10:43:54.478167Z"
    }
   },
   "outputs": [],
   "source": [
    "ID = 'ID'\n",
    "df21_raw = pd.read_csv('dataRaw/variant_summary.txt.gz',sep = '\\t',low_memory=False)\n",
    "df21 = set_index(df21_raw, ID)\n",
    "df21['Extra'] = df21['Chromosome'] + '-' + df21['Start'] +'-' + df21['ReferenceAlleleVCF'] +'-' + df21['AlternateAlleleVCF']\n",
    "df21 = df21.set_index('Extra')\n",
    "\n",
    "\n"
   ]
  },
  {
   "cell_type": "code",
   "execution_count": 5,
   "id": "f1270602",
   "metadata": {
    "ExecuteTime": {
     "end_time": "2022-07-07T10:48:02.006114Z",
     "start_time": "2022-07-07T10:44:30.278853Z"
    }
   },
   "outputs": [],
   "source": [
    "### ALTERNATIVE SINCE A FILE WITH CADD IS MISSING\n",
    "### Need for calculate how many chanched more than 1\n",
    "alle = pd.read_csv('dataProduced/alle.csv', sep = '\\t',index_col = 'Extra', low_memory=False)\n",
    "f = alle.iloc[:,1::2]\n",
    "f = f.T\n",
    "# unique keeps the order of the labels occurance\n",
    "aa = f.apply(lambda x: x.dropna().unique())\n",
    "a= aa[aa.str.len()>0]\n",
    "df = df21.join(pd.DataFrame(aa), rsuffix = '_df21', lsuffix = '_joined', how = 'inner' )\n",
    "# get the first and the last labels for a variant, ignore intermediate (there are some)\n",
    "# with more than 3 labels\n",
    "df['LabelOld'] = df[0].str[0]\n",
    "df['LabelNew'] = df[0].str[-1]\n",
    "labels = ['LabelOld', 'LabelNew']\n"
   ]
  },
  {
   "cell_type": "code",
   "execution_count": 9,
   "id": "992493d8",
   "metadata": {
    "ExecuteTime": {
     "end_time": "2022-07-07T10:49:38.293841Z",
     "start_time": "2022-07-07T10:49:38.290306Z"
    }
   },
   "outputs": [
    {
     "data": {
      "text/plain": [
       "(883702, 40)"
      ]
     },
     "execution_count": 9,
     "metadata": {},
     "output_type": "execute_result"
    }
   ],
   "source": [
    "df.shape"
   ]
  },
  {
   "cell_type": "code",
   "execution_count": 8,
   "id": "b9ecbccb",
   "metadata": {
    "ExecuteTime": {
     "end_time": "2022-07-07T10:48:58.149041Z",
     "start_time": "2022-07-07T10:48:57.352966Z"
    }
   },
   "outputs": [
    {
     "data": {
      "text/html": [
       "<div>\n",
       "<style scoped>\n",
       "    .dataframe tbody tr th:only-of-type {\n",
       "        vertical-align: middle;\n",
       "    }\n",
       "\n",
       "    .dataframe tbody tr th {\n",
       "        vertical-align: top;\n",
       "    }\n",
       "\n",
       "    .dataframe thead th {\n",
       "        text-align: right;\n",
       "    }\n",
       "</style>\n",
       "<table border=\"1\" class=\"dataframe\">\n",
       "  <thead>\n",
       "    <tr style=\"text-align: right;\">\n",
       "      <th>LabelNew</th>\n",
       "      <th>Benign</th>\n",
       "      <th>Conflicting interpretations</th>\n",
       "      <th>Pathogenic</th>\n",
       "      <th>Uncertain significance</th>\n",
       "      <th>All</th>\n",
       "    </tr>\n",
       "    <tr>\n",
       "      <th>LabelOld</th>\n",
       "      <th></th>\n",
       "      <th></th>\n",
       "      <th></th>\n",
       "      <th></th>\n",
       "      <th></th>\n",
       "    </tr>\n",
       "  </thead>\n",
       "  <tbody>\n",
       "    <tr>\n",
       "      <th>Benign</th>\n",
       "      <td>264495</td>\n",
       "      <td>15625</td>\n",
       "      <td>211</td>\n",
       "      <td>1374</td>\n",
       "      <td>281705</td>\n",
       "    </tr>\n",
       "    <tr>\n",
       "      <th>Conflicting interpretations</th>\n",
       "      <td>239</td>\n",
       "      <td>2160</td>\n",
       "      <td>1017</td>\n",
       "      <td>149</td>\n",
       "      <td>3565</td>\n",
       "    </tr>\n",
       "    <tr>\n",
       "      <th>Pathogenic</th>\n",
       "      <td>531</td>\n",
       "      <td>4409</td>\n",
       "      <td>164157</td>\n",
       "      <td>2891</td>\n",
       "      <td>171988</td>\n",
       "    </tr>\n",
       "    <tr>\n",
       "      <th>Uncertain significance</th>\n",
       "      <td>10994</td>\n",
       "      <td>23739</td>\n",
       "      <td>2748</td>\n",
       "      <td>340231</td>\n",
       "      <td>377712</td>\n",
       "    </tr>\n",
       "    <tr>\n",
       "      <th>All</th>\n",
       "      <td>276259</td>\n",
       "      <td>45933</td>\n",
       "      <td>168133</td>\n",
       "      <td>344645</td>\n",
       "      <td>834970</td>\n",
       "    </tr>\n",
       "  </tbody>\n",
       "</table>\n",
       "</div>"
      ],
      "text/plain": [
       "LabelNew                     Benign  Conflicting interpretations  Pathogenic  \\\n",
       "LabelOld                                                                       \n",
       "Benign                       264495                        15625         211   \n",
       "Conflicting interpretations     239                         2160        1017   \n",
       "Pathogenic                      531                         4409      164157   \n",
       "Uncertain significance        10994                        23739        2748   \n",
       "All                          276259                        45933      168133   \n",
       "\n",
       "LabelNew                     Uncertain significance     All  \n",
       "LabelOld                                                     \n",
       "Benign                                         1374  281705  \n",
       "Conflicting interpretations                     149    3565  \n",
       "Pathogenic                                     2891  171988  \n",
       "Uncertain significance                       340231  377712  \n",
       "All                                          344645  834970  "
      ]
     },
     "execution_count": 8,
     "metadata": {},
     "output_type": "execute_result"
    }
   ],
   "source": [
    "pd.crosstab(df['LabelOld'],df['LabelNew'] , margins = True)"
   ]
  },
  {
   "cell_type": "code",
   "execution_count": 6,
   "id": "1f69cbea",
   "metadata": {
    "ExecuteTime": {
     "end_time": "2022-07-07T10:48:03.362626Z",
     "start_time": "2022-07-07T10:48:02.007957Z"
    }
   },
   "outputs": [
    {
     "data": {
      "text/html": [
       "<div>\n",
       "<style scoped>\n",
       "    .dataframe tbody tr th:only-of-type {\n",
       "        vertical-align: middle;\n",
       "    }\n",
       "\n",
       "    .dataframe tbody tr th {\n",
       "        vertical-align: top;\n",
       "    }\n",
       "\n",
       "    .dataframe thead th {\n",
       "        text-align: right;\n",
       "    }\n",
       "</style>\n",
       "<table border=\"1\" class=\"dataframe\">\n",
       "  <thead>\n",
       "    <tr style=\"text-align: right;\">\n",
       "      <th>col_0</th>\n",
       "      <th>Benign</th>\n",
       "      <th>Conflicting interpretations</th>\n",
       "      <th>Pathogenic</th>\n",
       "      <th>Uncertain significance</th>\n",
       "      <th>All</th>\n",
       "    </tr>\n",
       "    <tr>\n",
       "      <th>row_0</th>\n",
       "      <th></th>\n",
       "      <th></th>\n",
       "      <th></th>\n",
       "      <th></th>\n",
       "      <th></th>\n",
       "    </tr>\n",
       "  </thead>\n",
       "  <tbody>\n",
       "    <tr>\n",
       "      <th>Benign</th>\n",
       "      <td>257393</td>\n",
       "      <td>222</td>\n",
       "      <td>522</td>\n",
       "      <td>10949</td>\n",
       "      <td>269086</td>\n",
       "    </tr>\n",
       "    <tr>\n",
       "      <th>Conflicting interpretations</th>\n",
       "      <td>15615</td>\n",
       "      <td>2085</td>\n",
       "      <td>4389</td>\n",
       "      <td>23566</td>\n",
       "      <td>45655</td>\n",
       "    </tr>\n",
       "    <tr>\n",
       "      <th>Pathogenic</th>\n",
       "      <td>65</td>\n",
       "      <td>97</td>\n",
       "      <td>137005</td>\n",
       "      <td>2081</td>\n",
       "      <td>139248</td>\n",
       "    </tr>\n",
       "    <tr>\n",
       "      <th>Uncertain significance</th>\n",
       "      <td>1282</td>\n",
       "      <td>88</td>\n",
       "      <td>2779</td>\n",
       "      <td>336016</td>\n",
       "      <td>340165</td>\n",
       "    </tr>\n",
       "    <tr>\n",
       "      <th>All</th>\n",
       "      <td>274355</td>\n",
       "      <td>2492</td>\n",
       "      <td>144695</td>\n",
       "      <td>372612</td>\n",
       "      <td>794154</td>\n",
       "    </tr>\n",
       "  </tbody>\n",
       "</table>\n",
       "</div>"
      ],
      "text/plain": [
       "col_0                        Benign  Conflicting interpretations  Pathogenic  \\\n",
       "row_0                                                                          \n",
       "Benign                       257393                          222         522   \n",
       "Conflicting interpretations   15615                         2085        4389   \n",
       "Pathogenic                       65                           97      137005   \n",
       "Uncertain significance         1282                           88        2779   \n",
       "All                          274355                         2492      144695   \n",
       "\n",
       "col_0                        Uncertain significance     All  \n",
       "row_0                                                        \n",
       "Benign                                        10949  269086  \n",
       "Conflicting interpretations                   23566   45655  \n",
       "Pathogenic                                     2081  139248  \n",
       "Uncertain significance                       336016  340165  \n",
       "All                                          372612  794154  "
      ]
     },
     "execution_count": 6,
     "metadata": {},
     "output_type": "execute_result"
    }
   ],
   "source": [
    "\n",
    "pd.crosstab(aa.str[-1],aa.str[0], margins = True)"
   ]
  },
  {
   "cell_type": "code",
   "execution_count": 5,
   "id": "e2c76122",
   "metadata": {
    "ExecuteTime": {
     "end_time": "2022-07-07T09:01:13.197647Z",
     "start_time": "2022-07-07T09:01:12.698635Z"
    },
    "collapsed": true
   },
   "outputs": [
    {
     "ename": "NameError",
     "evalue": "name 'joined' is not defined",
     "output_type": "error",
     "traceback": [
      "\u001b[0;31m---------------------------------------------------------------------------\u001b[0m",
      "\u001b[0;31mNameError\u001b[0m                                 Traceback (most recent call last)",
      "\u001b[0;32m/data/gpfs-1/scratch/users/nazaretl_c/tmp/ipykernel_2262327/2165410614.py\u001b[0m in \u001b[0;36m<module>\u001b[0;34m\u001b[0m\n\u001b[0;32m----> 1\u001b[0;31m \u001b[0mdf\u001b[0m \u001b[0;34m=\u001b[0m \u001b[0mdf21\u001b[0m\u001b[0;34m.\u001b[0m\u001b[0mjoin\u001b[0m\u001b[0;34m(\u001b[0m\u001b[0mjoined\u001b[0m\u001b[0;34m,\u001b[0m \u001b[0mrsuffix\u001b[0m \u001b[0;34m=\u001b[0m \u001b[0;34m'_df21'\u001b[0m\u001b[0;34m,\u001b[0m \u001b[0mlsuffix\u001b[0m \u001b[0;34m=\u001b[0m \u001b[0;34m'_joined'\u001b[0m\u001b[0;34m,\u001b[0m \u001b[0mhow\u001b[0m \u001b[0;34m=\u001b[0m \u001b[0;34m'inner'\u001b[0m \u001b[0;34m)\u001b[0m\u001b[0;34m\u001b[0m\u001b[0;34m\u001b[0m\u001b[0m\n\u001b[0m\u001b[1;32m      2\u001b[0m \u001b[0;31m# get the first and the last labels for a variant, ignore intermediate (there are some)\u001b[0m\u001b[0;34m\u001b[0m\u001b[0;34m\u001b[0m\u001b[0;34m\u001b[0m\u001b[0m\n\u001b[1;32m      3\u001b[0m \u001b[0;31m# with more than 3 labels\u001b[0m\u001b[0;34m\u001b[0m\u001b[0;34m\u001b[0m\u001b[0;34m\u001b[0m\u001b[0m\n\u001b[1;32m      4\u001b[0m \u001b[0mdf\u001b[0m\u001b[0;34m[\u001b[0m\u001b[0;34m'LabelOld'\u001b[0m\u001b[0;34m]\u001b[0m \u001b[0;34m=\u001b[0m \u001b[0mdf\u001b[0m\u001b[0;34m[\u001b[0m\u001b[0;34m'Labels'\u001b[0m\u001b[0;34m]\u001b[0m\u001b[0;34m.\u001b[0m\u001b[0mstr\u001b[0m\u001b[0;34m[\u001b[0m\u001b[0;36m0\u001b[0m\u001b[0;34m]\u001b[0m\u001b[0;34m\u001b[0m\u001b[0;34m\u001b[0m\u001b[0m\n\u001b[1;32m      5\u001b[0m \u001b[0mdf\u001b[0m\u001b[0;34m[\u001b[0m\u001b[0;34m'LabelNew'\u001b[0m\u001b[0;34m]\u001b[0m \u001b[0;34m=\u001b[0m \u001b[0mdf\u001b[0m\u001b[0;34m[\u001b[0m\u001b[0;34m'Labels'\u001b[0m\u001b[0;34m]\u001b[0m\u001b[0;34m.\u001b[0m\u001b[0mstr\u001b[0m\u001b[0;34m[\u001b[0m\u001b[0;34m-\u001b[0m\u001b[0;36m1\u001b[0m\u001b[0;34m]\u001b[0m\u001b[0;34m\u001b[0m\u001b[0;34m\u001b[0m\u001b[0m\n",
      "\u001b[0;31mNameError\u001b[0m: name 'joined' is not defined"
     ]
    }
   ],
   "source": [
    "df = df21.join(joined, rsuffix = '_df21', lsuffix = '_joined', how = 'inner' )\n",
    "# get the first and the last labels for a variant, ignore intermediate (there are some)\n",
    "# with more than 3 labels\n",
    "df['LabelOld'] = df['Labels'].str[0]\n",
    "df['LabelNew'] = df['Labels'].str[-1]\n",
    "labels = ['LabelOld', 'LabelNew']\n"
   ]
  },
  {
   "cell_type": "code",
   "execution_count": null,
   "id": "2547d0bc",
   "metadata": {
    "ExecuteTime": {
     "start_time": "2022-07-07T09:41:15.805Z"
    }
   },
   "outputs": [
    {
     "name": "stderr",
     "output_type": "stream",
     "text": [
      "/data/gpfs-1/users/nazaretl_c/work/miniconda/lib/python3.7/site-packages/IPython/core/interactiveshell.py:3186: DtypeWarning: Columns (19,38,51,73,158) have mixed types.Specify dtype option on import or set low_memory=False.\n",
      "  interactivity=interactivity, compiler=compiler, result=result)\n"
     ]
    }
   ],
   "source": [
    "#df.to_csv('ClinVarAnnoLabels.csv', sep = '\\t')\n",
    "df = pd.read_csv('dataProduced/ClinVarAnnoLabels.csv', sep = '\\t',index_col = 'Unnamed: 0')\n"
   ]
  },
  {
   "cell_type": "code",
   "execution_count": null,
   "id": "8eaae9c7",
   "metadata": {
    "ExecuteTime": {
     "end_time": "2021-08-20T09:14:37.903930Z",
     "start_time": "2021-08-20T09:14:37.897720Z"
    }
   },
   "outputs": [],
   "source": [
    "cs = {'Uncertain significance': 2,\n",
    "        'Benign':0,\n",
    "        'Pathogenic':1,\n",
    "        'Conflicting interpretations':3}\n",
    "cs_inv = {v: k for k, v in cs.items()}\n",
    "#.replace(cs)"
   ]
  },
  {
   "cell_type": "code",
   "execution_count": null,
   "id": "c0618978",
   "metadata": {
    "ExecuteTime": {
     "end_time": "2021-08-20T09:14:37.914902Z",
     "start_time": "2021-08-20T09:14:37.907064Z"
    }
   },
   "outputs": [],
   "source": [
    "# dont run, only for finding correlated features and labels \n",
    "#df['LabelOld'] = df['LabelOld'].replace(cs)\n",
    "#df['LabelNew'] = df['LabelNew'].replace(cs)\n",
    "\n",
    "#cmatrix = df.corr()\n",
    "#cmatrix['LabelOld'].sort_values().head(200)\n",
    "#cmatrix['LabelNew'].sort_values().head(200)"
   ]
  },
  {
   "cell_type": "code",
   "execution_count": null,
   "id": "f2e27f2d",
   "metadata": {
    "ExecuteTime": {
     "end_time": "2021-08-20T09:14:38.471944Z",
     "start_time": "2021-08-20T09:14:37.917467Z"
    }
   },
   "outputs": [],
   "source": [
    "# drop ClinSigSimple and features that are highly correlated with the labels (if needed)\n",
    "#df = df.drop(columns = ['ClinSigSimple','NumberSubmitters','dbscSNV-ada_score','ConsScore'])\n",
    "df = df.drop(columns = ['ConsScore','ClinSigSimple','NumberSubmitters','VariationID','dbscSNV-ada_score'])\n",
    "\n",
    "\n"
   ]
  },
  {
   "cell_type": "code",
   "execution_count": null,
   "id": "ec92620b",
   "metadata": {
    "ExecuteTime": {
     "end_time": "2021-08-20T09:14:39.739286Z",
     "start_time": "2021-08-20T09:14:38.474133Z"
    }
   },
   "outputs": [],
   "source": [
    "#df = deleteConflicting(df)\n",
    "df = df[~df['LabelNew'].isna()]\n",
    "# add an independent ID \n",
    "df['ID'] = list(range(len(df)))\n",
    "\n",
    "\n",
    "# Use changes in Conflicting interpretations and Uncertain significance to test the models?\n",
    "pd.crosstab(df['LabelOld'], df['LabelNew'])"
   ]
  },
  {
   "cell_type": "code",
   "execution_count": null,
   "id": "59e757dd",
   "metadata": {
    "ExecuteTime": {
     "end_time": "2021-08-20T09:14:01.254480Z",
     "start_time": "2021-08-20T09:14:01.239972Z"
    }
   },
   "outputs": [],
   "source": []
  },
  {
   "cell_type": "code",
   "execution_count": null,
   "id": "dd0495a3",
   "metadata": {
    "ExecuteTime": {
     "end_time": "2021-08-20T09:14:40.268774Z",
     "start_time": "2021-08-20T09:14:39.741933Z"
    }
   },
   "outputs": [],
   "source": [
    "LabelNew = df['LabelNew'].replace(cs)\n",
    "LabelOld = df['LabelOld'].replace(cs)"
   ]
  },
  {
   "cell_type": "code",
   "execution_count": null,
   "id": "9e11fe8b",
   "metadata": {
    "ExecuteTime": {
     "end_time": "2021-08-20T09:14:44.623834Z",
     "start_time": "2021-08-20T09:14:40.271005Z"
    }
   },
   "outputs": [],
   "source": [
    "\n",
    "#df.index = df['LabelNew'].replace(cs)\n",
    "df = prepareData(df)\n",
    "df = df.iloc[:,11:]\n"
   ]
  },
  {
   "cell_type": "code",
   "execution_count": null,
   "id": "bc0ab7b9",
   "metadata": {
    "ExecuteTime": {
     "end_time": "2021-08-20T09:14:44.921248Z",
     "start_time": "2021-08-20T09:14:44.627296Z"
    }
   },
   "outputs": [],
   "source": [
    "df['LabelNew'] = LabelNew\n",
    "df['LabelOld'] = LabelOld\n",
    "df.index = list(range(len(df)))\n",
    "\n",
    "df.head()"
   ]
  },
  {
   "cell_type": "code",
   "execution_count": null,
   "id": "5ab12940",
   "metadata": {
    "ExecuteTime": {
     "end_time": "2021-08-20T09:17:51.351221Z",
     "start_time": "2021-08-20T09:17:51.345332Z"
    }
   },
   "outputs": [],
   "source": [
    "#df[df['LabelNew']!=df['LabelOld']]"
   ]
  },
  {
   "cell_type": "code",
   "execution_count": null,
   "id": "1ae83d78",
   "metadata": {
    "ExecuteTime": {
     "end_time": "2021-08-20T09:17:12.782089Z",
     "start_time": "2021-08-20T09:16:32.864322Z"
    }
   },
   "outputs": [],
   "source": [
    "df.to_csv('dataProduced/ClinVarAnnoLabelsCleanBoth.csv', sep = '\\t')"
   ]
  },
  {
   "cell_type": "code",
   "execution_count": null,
   "id": "846b1ac3",
   "metadata": {
    "ExecuteTime": {
     "end_time": "2021-05-18T07:32:40.071322Z",
     "start_time": "2021-05-18T07:32:39.803314Z"
    }
   },
   "outputs": [],
   "source": [
    "#noise  = pd.crosstab(df['LabelOld'], df['LabelNew'],normalize = 'columns').values\n",
    "#noise = noise.round(3)"
   ]
  },
  {
   "cell_type": "markdown",
   "id": "54216dd0",
   "metadata": {
    "ExecuteTime": {
     "end_time": "2021-06-02T08:57:36.131767Z",
     "start_time": "2021-06-02T08:57:36.124664Z"
    },
    "heading_collapsed": true
   },
   "source": [
    "### "
   ]
  },
  {
   "cell_type": "code",
   "execution_count": null,
   "id": "8deafb11",
   "metadata": {
    "ExecuteTime": {
     "end_time": "2021-06-08T16:50:39.854467Z",
     "start_time": "2021-06-08T16:50:22.490932Z"
    },
    "hidden": true
   },
   "outputs": [],
   "source": [
    "#feature = 'Labels' #SubmitterCategories\n",
    "labels = ['LabelOld', 'LabelNew']\n",
    "\n",
    "clinicalSig = [[0,1],[0,1,2],[0,1,3],[0,1,2,3]]\n",
    "compareAll = pd.DataFrame(pd.Series(clinicalSig, name = 'clinicalSig'))\n",
    "accuracies = []\n",
    "labels = ['LabelNew']\n",
    "clinicalSig = [[0,1,2]]\n",
    "\n",
    "\n",
    "#categories = [[0,1],[0,1,2]]\n",
    "\n",
    "for sig in clinicalSig:\n",
    "    for label in labels: # here only new labels\n",
    "        b = True\n",
    "        acc, ratio = getAcc(df,label,sig, balance = b,up = False)\n",
    "        accuracies.append([sig,label,acc])\n",
    "\n",
    "\n",
    "        \n"
   ]
  },
  {
   "cell_type": "markdown",
   "id": "98e8555b",
   "metadata": {
    "heading_collapsed": true
   },
   "source": [
    "### Run model(s) on the entire dataset "
   ]
  },
  {
   "cell_type": "code",
   "execution_count": null,
   "id": "5dddce9c",
   "metadata": {
    "ExecuteTime": {
     "end_time": "2021-06-08T16:46:25.439107Z",
     "start_time": "2021-06-08T16:45:47.290663Z"
    },
    "hidden": true,
    "scrolled": true
   },
   "outputs": [],
   "source": [
    "#feature = 'Labels' #SubmitterCategories\n",
    "labels = ['LabelOld', 'LabelNew']\n",
    "clinicalSig = [[0,1],[0,1,2],[0,1,3],[0,1,2,3]]\n",
    "compareAll = pd.DataFrame(pd.Series(clinicalSig, name = 'clinicalSig'))\n",
    "accuracies = []\n",
    "#labels = ['LabelNew']\n",
    "\n",
    "#categories = [[0,1],[0,1,2]]\n",
    "\n",
    "for sig in clinicalSig:\n",
    "    for label in labels: # here only new labels\n",
    "        print('Not balanced --------------------')\n",
    "        b = False\n",
    "        acc, ratio = getAcc(df,label,sig, balance = b,up = False)\n",
    "        accuracies.append([sig,label,acc])\n",
    "        print('Balanced -------------------------')\n",
    "        b = True\n",
    "        acc, ratio = getAcc(df,label,sig, balance = b, up = False)\n",
    "        accuracies.append([sig,label,acc])\n",
    "\n"
   ]
  },
  {
   "cell_type": "code",
   "execution_count": null,
   "id": "497755a4",
   "metadata": {
    "ExecuteTime": {
     "end_time": "2021-06-02T07:32:54.788283Z",
     "start_time": "2021-06-02T07:32:54.765476Z"
    },
    "hidden": true
   },
   "outputs": [],
   "source": [
    "accDF = pd.DataFrame(accuracies)\n",
    "accDF"
   ]
  },
  {
   "cell_type": "code",
   "execution_count": null,
   "id": "09471dee",
   "metadata": {
    "ExecuteTime": {
     "end_time": "2021-06-02T07:32:32.796843Z",
     "start_time": "2021-06-02T07:32:32.776655Z"
    },
    "hidden": true
   },
   "outputs": [],
   "source": []
  },
  {
   "cell_type": "markdown",
   "id": "52c0cd79",
   "metadata": {},
   "source": [
    "### Filter by Gene, ReviewStatus and Consequence with balanced and unbalanaced data"
   ]
  },
  {
   "cell_type": "code",
   "execution_count": null,
   "id": "4f3883de",
   "metadata": {
    "ExecuteTime": {
     "end_time": "2021-06-02T07:33:13.021322Z",
     "start_time": "2021-06-02T07:33:11.889407Z"
    }
   },
   "outputs": [],
   "source": [
    "to_replace = {'reviewed by expert panel' : 3,\n",
    "           'practice guideline' : 4,\n",
    "           'criteria provided, multiple submitters, no conflicts':2,\n",
    "              'criteria provided, single submitter':1,\n",
    "           'criteria provided, conflicting interpretations': 0,\n",
    "           'no assertion criteria provided':0\n",
    "             }\n",
    "df['ReviewStatus'] = df['ReviewStatus'].replace(to_replace)    "
   ]
  },
  {
   "cell_type": "code",
   "execution_count": null,
   "id": "7004c3af",
   "metadata": {},
   "outputs": [],
   "source": []
  },
  {
   "cell_type": "code",
   "execution_count": null,
   "id": "3bd54a9e",
   "metadata": {
    "ExecuteTime": {
     "end_time": "2021-06-02T07:33:14.231782Z",
     "start_time": "2021-06-02T07:33:14.225878Z"
    }
   },
   "outputs": [],
   "source": [
    "features = {'GeneID_joined': 2400,\n",
    "            'SubmitterCategories' :0,\n",
    "            'Consequence' : 150\n",
    "           }\n",
    "\n"
   ]
  },
  {
   "cell_type": "code",
   "execution_count": null,
   "id": "9c15bdfe",
   "metadata": {
    "ExecuteTime": {
     "end_time": "2021-06-02T07:59:05.138597Z",
     "start_time": "2021-06-02T07:36:39.181005Z"
    },
    "scrolled": false
   },
   "outputs": [],
   "source": [
    "blockPrint()\n",
    "means = []\n",
    "stds = []\n",
    "compare = pd.DataFrame(pd.Series(clinicalSig, name = 'clinicalSig'))\n",
    "\n",
    "for key in features.keys():\n",
    "    feature = key\n",
    "    lim = features[feature]\n",
    "    balance = True\n",
    "    a = df[feature].value_counts()\n",
    "    categories = a[(a>lim) | a.isin([-1,'-1'])].index\n",
    "    accuracies = pd.DataFrame(pd.Series(categories, name = feature))\n",
    "  #  ratios = []\n",
    "    for sig in clinicalSig:\n",
    "        li = []\n",
    "        ratios = []\n",
    "\n",
    "        for cat in categories:\n",
    "            dataset = df[df[feature] == cat]\n",
    "            #print(len(dataset))\n",
    "            acc, ratio = getAcc(dataset, label ,sig, balance = balance)\n",
    "            li.append(acc)\n",
    "            #print(li)\n",
    "            ratios.append(ratio)\n",
    "        name = str(list(map(cs_inv.get, sig)))    \n",
    "        accuracies[name] = li #map(float, li)\n",
    "        accuracies[name + ' RATIO'] = ratios\n",
    "        print('---------')\n",
    "\n",
    "    accuracies = accuracies.set_index(feature, drop = True)\n",
    "\n",
    "    std =pd.Series(accuracies.std(axis = 0), name = 'Std '+feature)\n",
    "    mean = pd.Series(accuracies.mean(axis = 0), name = 'Mean '+feature)\n",
    "    \n",
    "    compare[mean.name] = mean.to_list()\n",
    "    compare[std.name] = std.to_list()\n",
    "    \n",
    "    accuracies = accuracies.append(mean)\n",
    "    accuracies = accuracies.append(std)\n",
    "    accuracies.columns = accuracies.columns.str.replace('\\[|\\]','').str.replace('\\'','')\n",
    "    accuracies.to_csv('tables/'+feature+'.csv', sep = '\\t')\n",
    "    enablePrint()\n",
    "compare"
   ]
  },
  {
   "cell_type": "code",
   "execution_count": null,
   "id": "ed321e45",
   "metadata": {},
   "outputs": [],
   "source": []
  }
 ],
 "metadata": {
  "hide_input": false,
  "kernelspec": {
   "display_name": "Python 3 (ipykernel)",
   "language": "python",
   "name": "python3"
  },
  "language_info": {
   "codemirror_mode": {
    "name": "ipython",
    "version": 3
   },
   "file_extension": ".py",
   "mimetype": "text/x-python",
   "name": "python",
   "nbconvert_exporter": "python",
   "pygments_lexer": "ipython3",
   "version": "3.9.13"
  },
  "toc": {
   "base_numbering": 1,
   "nav_menu": {},
   "number_sections": true,
   "sideBar": true,
   "skip_h1_title": false,
   "title_cell": "Table of Contents",
   "title_sidebar": "Contents",
   "toc_cell": false,
   "toc_position": {},
   "toc_section_display": true,
   "toc_window_display": false
  },
  "varInspector": {
   "cols": {
    "lenName": 16,
    "lenType": 16,
    "lenVar": 40
   },
   "kernels_config": {
    "python": {
     "delete_cmd_postfix": "",
     "delete_cmd_prefix": "del ",
     "library": "var_list.py",
     "varRefreshCmd": "print(var_dic_list())"
    },
    "r": {
     "delete_cmd_postfix": ") ",
     "delete_cmd_prefix": "rm(",
     "library": "var_list.r",
     "varRefreshCmd": "cat(var_dic_list()) "
    }
   },
   "position": {
    "height": "400.4px",
    "left": "818px",
    "right": "20px",
    "top": "-144px",
    "width": "350px"
   },
   "types_to_exclude": [
    "module",
    "function",
    "builtin_function_or_method",
    "instance",
    "_Feature"
   ],
   "window_display": false
  }
 },
 "nbformat": 4,
 "nbformat_minor": 5
}

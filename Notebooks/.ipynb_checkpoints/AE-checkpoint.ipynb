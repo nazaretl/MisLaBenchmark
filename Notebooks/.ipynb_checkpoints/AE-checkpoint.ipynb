{
 "cells": [
  {
   "cell_type": "code",
   "execution_count": 1,
   "id": "79fcd148",
   "metadata": {
    "ExecuteTime": {
     "end_time": "2022-06-07T13:15:48.633960Z",
     "start_time": "2022-06-07T13:15:43.721325Z"
    }
   },
   "outputs": [],
   "source": [
    "#https://github.com/lschmiddey/Autoencoder/blob/master/Create_Autoencoder_Model_Basemodel_3Embeddings.ipynb\n",
    "import torch\n",
    "import torch.nn as nn\n",
    "import torch.nn.functional as F\n",
    "from torch import nn, optim\n",
    "from torch.autograd import Variable\n",
    "\n",
    "import pandas as pd\n",
    "import numpy as np\n",
    "from sklearn import preprocessing"
   ]
  },
  {
   "cell_type": "code",
   "execution_count": 2,
   "id": "da496434",
   "metadata": {
    "ExecuteTime": {
     "end_time": "2022-06-07T13:15:49.006189Z",
     "start_time": "2022-06-07T13:15:48.785235Z"
    }
   },
   "outputs": [
    {
     "data": {
      "text/plain": [
       "device(type='cpu')"
      ]
     },
     "execution_count": 2,
     "metadata": {},
     "output_type": "execute_result"
    }
   ],
   "source": [
    "device = torch.device('cuda' if torch.cuda.is_available() else 'cpu')\n",
    "device"
   ]
  },
  {
   "cell_type": "code",
   "execution_count": 11,
   "id": "ff3eaa2f",
   "metadata": {
    "ExecuteTime": {
     "end_time": "2022-06-07T13:21:56.430844Z",
     "start_time": "2022-06-07T13:21:56.427793Z"
    }
   },
   "outputs": [],
   "source": [
    "DATA_PATH = '../dataRaw/wine.data'\n"
   ]
  },
  {
   "cell_type": "code",
   "execution_count": 12,
   "id": "53d70eca",
   "metadata": {
    "ExecuteTime": {
     "end_time": "2022-06-07T13:21:57.186031Z",
     "start_time": "2022-06-07T13:21:57.181599Z"
    }
   },
   "outputs": [],
   "source": [
    "def load_data(path):\n",
    "    # read in from csv\n",
    "    df = pd.read_csv(path, sep=',')\n",
    "    # replace nan with -99\n",
    "    df = df.fillna(-99)\n",
    "    df_base = df.iloc[:, 1:]\n",
    "    df_wine = df.iloc[:,0].values\n",
    "    x = df_base.values.reshape(-1, df_base.shape[1]).astype('float32')\n",
    "    # stadardize values\n",
    "    standardizer = preprocessing.StandardScaler()\n",
    "    x_train = standardizer.fit_transform(x)\n",
    "    x_train = torch.from_numpy(x_train).to(device)\n",
    "    return x_train, standardizer, df_wine"
   ]
  },
  {
   "cell_type": "code",
   "execution_count": 14,
   "id": "996c0dda",
   "metadata": {
    "ExecuteTime": {
     "end_time": "2022-06-07T13:22:22.144364Z",
     "start_time": "2022-06-07T13:22:22.140945Z"
    }
   },
   "outputs": [],
   "source": [
    "from torch.utils.data import Dataset, DataLoader\n",
    "class DataBuilder(Dataset):\n",
    "    def __init__(self, path):\n",
    "        self.x, self.standardizer, self.wine = load_data(DATA_PATH)\n",
    "        self.len=self.x.shape[0]\n",
    "    def __getitem__(self,index):      \n",
    "        return self.x[index]\n",
    "    def __len__(self):\n",
    "        return self.len"
   ]
  },
  {
   "cell_type": "code",
   "execution_count": 15,
   "id": "1c6fb427",
   "metadata": {
    "ExecuteTime": {
     "end_time": "2022-06-07T13:22:24.387317Z",
     "start_time": "2022-06-07T13:22:24.379963Z"
    }
   },
   "outputs": [],
   "source": [
    "data_set=DataBuilder(DATA_PATH)\n",
    "trainloader=DataLoader(dataset=data_set,batch_size=1024)"
   ]
  },
  {
   "cell_type": "code",
   "execution_count": 16,
   "id": "91a3f86d",
   "metadata": {
    "ExecuteTime": {
     "end_time": "2022-06-07T13:22:36.692173Z",
     "start_time": "2022-06-07T13:22:36.682327Z"
    }
   },
   "outputs": [],
   "source": [
    "class Autoencoder(nn.Module):\n",
    "    def __init__(self,D_in,H=50,H2=12,latent_dim=3):\n",
    "        \n",
    "        #Encoder\n",
    "        super(Autoencoder,self).__init__()\n",
    "        self.linear1=nn.Linear(D_in,H)\n",
    "        self.lin_bn1 = nn.BatchNorm1d(num_features=H)\n",
    "        self.linear2=nn.Linear(H,H2)\n",
    "        self.lin_bn2 = nn.BatchNorm1d(num_features=H2)\n",
    "        self.linear3=nn.Linear(H2,H2)\n",
    "        self.lin_bn3 = nn.BatchNorm1d(num_features=H2)\n",
    "        \n",
    "#         # Latent vectors mu and sigma\n",
    "        self.fc1 = nn.Linear(H2, latent_dim)\n",
    "#        self.bn1 = nn.BatchNorm1d(num_features=latent_dim)\n",
    "        self.fc21 = nn.Linear(latent_dim, latent_dim)\n",
    "        self.fc22 = nn.Linear(latent_dim, latent_dim)\n",
    "\n",
    "#         # Sampling vector\n",
    "        self.fc3 = nn.Linear(latent_dim, latent_dim)\n",
    "#         self.fc_bn3 = nn.BatchNorm1d(latent_dim)\n",
    "        self.fc4 = nn.Linear(latent_dim, H2)\n",
    "#         self.fc_bn4 = nn.BatchNorm1d(H2)\n",
    "        \n",
    "#         # Decoder\n",
    "        self.linear4=nn.Linear(H2,H2)\n",
    "        self.lin_bn4 = nn.BatchNorm1d(num_features=H2)\n",
    "        self.linear5=nn.Linear(H2,H)\n",
    "        self.lin_bn5 = nn.BatchNorm1d(num_features=H)\n",
    "        self.linear6=nn.Linear(H,D_in)\n",
    "        self.lin_bn6 = nn.BatchNorm1d(num_features=D_in)\n",
    "        \n",
    "        self.relu = nn.ReLU()\n",
    "        \n",
    "    def encode(self, x):\n",
    "        lin1 = self.relu(self.lin_bn1(self.linear1(x)))\n",
    "        lin2 = self.relu(self.lin_bn2(self.linear2(lin1)))\n",
    "        lin3 = self.relu(self.lin_bn3(self.linear3(lin2)))\n",
    "\n",
    "        fc1 = F.relu(self.fc1(lin3))\n",
    "\n",
    "        r1 = self.fc21(fc1)\n",
    "        r2 = self.fc22(fc1)\n",
    "        \n",
    "        return r1, r2\n",
    "    \n",
    "    def reparameterize(self, mu, logvar):\n",
    "        if self.training:\n",
    "            std = logvar.mul(0.5).exp_()\n",
    "            eps = Variable(std.data.new(std.size()).normal_())\n",
    "            return eps.mul(std).add_(mu)\n",
    "        else:\n",
    "            return mu\n",
    "        \n",
    "    def decode(self, z):\n",
    "        fc3 = self.relu(self.fc3(z))\n",
    "        fc4 = self.relu(self.fc4(fc3))#.view(128, -1)\n",
    "\n",
    "        lin4 = self.relu(self.lin_bn4(self.linear4(fc4)))\n",
    "        lin5 = self.relu(self.lin_bn5(self.linear5(lin4)))\n",
    "        return self.lin_bn6(self.linear6(lin5))\n",
    "\n",
    "\n",
    "        \n",
    "    def forward(self, x):\n",
    "        mu, logvar = self.encode(x)\n",
    "        z = self.reparameterize(mu, logvar)\n",
    "        # self.decode(z) ist später recon_batch, mu ist mu und logvar ist logvar\n",
    "        return self.decode(z), mu, logvar"
   ]
  },
  {
   "cell_type": "code",
   "execution_count": 17,
   "id": "23540924",
   "metadata": {
    "ExecuteTime": {
     "end_time": "2022-06-07T13:22:42.252207Z",
     "start_time": "2022-06-07T13:22:42.248311Z"
    }
   },
   "outputs": [],
   "source": [
    "class customLoss(nn.Module):\n",
    "    def __init__(self):\n",
    "        super(customLoss, self).__init__()\n",
    "        self.mse_loss = nn.MSELoss(reduction=\"sum\")\n",
    "    \n",
    "    # x_recon ist der im forward im Model erstellte recon_batch, x ist der originale x Batch, mu ist mu und logvar ist logvar \n",
    "    def forward(self, x_recon, x, mu, logvar):\n",
    "        loss_MSE = self.mse_loss(x_recon, x)\n",
    "        loss_KLD = -0.5 * torch.sum(1 + logvar - mu.pow(2) - logvar.exp())\n",
    "\n",
    "        return loss_MSE + loss_KLD"
   ]
  },
  {
   "cell_type": "code",
   "execution_count": 18,
   "id": "fea46e08",
   "metadata": {
    "ExecuteTime": {
     "end_time": "2022-06-07T13:22:53.095083Z",
     "start_time": "2022-06-07T13:22:53.091659Z"
    }
   },
   "outputs": [],
   "source": [
    "# takes in a module and applies the specified weight initialization\n",
    "def weights_init_uniform_rule(m):\n",
    "    classname = m.__class__.__name__\n",
    "    # for every Linear layer in a model..\n",
    "    if classname.find('Linear') != -1:\n",
    "        # get the number of the inputs\n",
    "        n = m.in_features\n",
    "        y = 1.0/np.sqrt(n)\n",
    "        m.weight.data.uniform_(-y, y)\n",
    "        m.bias.data.fill_(0)"
   ]
  },
  {
   "cell_type": "code",
   "execution_count": 40,
   "id": "f3f8b1ce",
   "metadata": {
    "ExecuteTime": {
     "end_time": "2022-06-07T13:28:47.170999Z",
     "start_time": "2022-06-07T13:28:47.166235Z"
    }
   },
   "outputs": [],
   "source": [
    "def train(epoch):\n",
    "    model.train()\n",
    "    train_loss = 0\n",
    "    for batch_idx, data in enumerate(trainloader):\n",
    "        data = data.to(device)\n",
    "        optimizer.zero_grad()\n",
    "        recon_batch, mu, logvar = model(data)\n",
    "        loss = loss_mse(recon_batch, data, mu, logvar)\n",
    "        loss.backward()\n",
    "        train_loss += loss.item()\n",
    "        optimizer.step()\n",
    "#        if batch_idx % log_interval == 0:\n",
    "#            print('Train Epoch: {} [{}/{} ({:.0f}%)]\\tLoss: {:.6f}'.format(\n",
    "#                epoch, batch_idx * len(data), len(trainloader.dataset),\n",
    "#                       100. * batch_idx / len(trainloader),\n",
    "#                       loss.item() / len(data)))\n",
    "    if epoch % 200 == 0:        \n",
    "        print('====> Epoch: {} Average loss: {:.4f}'.format(\n",
    "            epoch, train_loss / len(trainloader.dataset)))\n",
    "        train_losses.append(train_loss / len(trainloader.dataset))\n",
    "        \n",
    "        "
   ]
  },
  {
   "cell_type": "code",
   "execution_count": 42,
   "id": "02ca9d8e",
   "metadata": {
    "ExecuteTime": {
     "end_time": "2022-06-07T13:29:09.787352Z",
     "start_time": "2022-06-07T13:29:09.780120Z"
    }
   },
   "outputs": [],
   "source": [
    "D_in = data_set.x.shape[1]\n",
    "H = 50\n",
    "H2 = 12\n",
    "model = Autoencoder(D_in, H, H2).to(device)\n",
    "#model.apply(weights_init_uniform_rule)\n",
    "#sae.fc4.register_forward_hook(get_activation('fc4'))\n",
    "optimizer = optim.Adam(model.parameters(), lr=1e-3)\n",
    "loss_mse = customLoss()\n"
   ]
  },
  {
   "cell_type": "code",
   "execution_count": 43,
   "id": "fa1064f4",
   "metadata": {
    "ExecuteTime": {
     "end_time": "2022-06-07T13:29:10.519000Z",
     "start_time": "2022-06-07T13:29:10.515475Z"
    }
   },
   "outputs": [],
   "source": [
    "epochs = 3000\n",
    "log_interval = 50\n",
    "val_losses = []\n",
    "train_losses = []"
   ]
  },
  {
   "cell_type": "code",
   "execution_count": null,
   "id": "a3946d3a",
   "metadata": {},
   "outputs": [],
   "source": []
  },
  {
   "cell_type": "code",
   "execution_count": 44,
   "id": "de8b52e3",
   "metadata": {
    "ExecuteTime": {
     "end_time": "2022-06-07T13:29:26.591240Z",
     "start_time": "2022-06-07T13:29:12.109159Z"
    }
   },
   "outputs": [
    {
     "name": "stdout",
     "output_type": "stream",
     "text": [
      "====> Epoch: 200 Average loss: 13.7614\n",
      "====> Epoch: 400 Average loss: 10.0617\n",
      "====> Epoch: 600 Average loss: 8.6797\n",
      "====> Epoch: 800 Average loss: 7.9723\n",
      "====> Epoch: 1000 Average loss: 7.4053\n",
      "====> Epoch: 1200 Average loss: 7.1438\n",
      "====> Epoch: 1400 Average loss: 6.7344\n",
      "====> Epoch: 1600 Average loss: 6.9475\n",
      "====> Epoch: 1800 Average loss: 6.9581\n",
      "====> Epoch: 2000 Average loss: 6.7528\n",
      "====> Epoch: 2200 Average loss: 6.6281\n",
      "====> Epoch: 2400 Average loss: 6.4035\n",
      "====> Epoch: 2600 Average loss: 6.4502\n",
      "====> Epoch: 2800 Average loss: 6.4973\n",
      "====> Epoch: 3000 Average loss: 6.5102\n"
     ]
    }
   ],
   "source": [
    "for epoch in range(1, epochs + 1):\n",
    "    train(epoch)"
   ]
  },
  {
   "cell_type": "code",
   "execution_count": 25,
   "id": "098be486",
   "metadata": {
    "ExecuteTime": {
     "end_time": "2022-06-07T13:23:54.970468Z",
     "start_time": "2022-06-07T13:23:54.963714Z"
    }
   },
   "outputs": [],
   "source": [
    "standardizer = trainloader.dataset.standardizer\n",
    "model.eval()\n",
    "test_loss = 0\n",
    "# no_grad() bedeutet wir nehmen die vorher berechneten Gewichte und erneuern sie nicht\n",
    "with torch.no_grad():\n",
    "    for i, data in enumerate(trainloader):\n",
    "        data = data.to(device)\n",
    "        recon_batch, mu, logvar = model(data)"
   ]
  },
  {
   "cell_type": "code",
   "execution_count": 27,
   "id": "40dc66a1",
   "metadata": {
    "ExecuteTime": {
     "end_time": "2022-06-07T13:24:09.541312Z",
     "start_time": "2022-06-07T13:24:09.534371Z"
    }
   },
   "outputs": [
    {
     "data": {
      "text/plain": [
       "array([1.311e+01, 1.010e+00, 1.700e+00, 1.500e+01, 7.800e+01, 2.980e+00,\n",
       "       3.180e+00, 2.600e-01, 2.280e+00, 5.300e+00, 1.120e+00, 3.180e+00,\n",
       "       5.020e+02], dtype=float32)"
      ]
     },
     "execution_count": 27,
     "metadata": {},
     "output_type": "execute_result"
    }
   ],
   "source": [
    "standardizer.inverse_transform(recon_batch[65].cpu().numpy())\n",
    "standardizer.inverse_transform(data[65].cpu().numpy())\n"
   ]
  },
  {
   "cell_type": "code",
   "execution_count": 31,
   "id": "0f65c2ee",
   "metadata": {
    "ExecuteTime": {
     "end_time": "2022-06-07T13:26:44.584859Z",
     "start_time": "2022-06-07T13:26:44.576157Z"
    }
   },
   "outputs": [],
   "source": [
    "mu_output = []\n",
    "logvar_output = []\n",
    "\n",
    "with torch.no_grad():\n",
    "    for i, (data) in enumerate(trainloader):\n",
    "            data = data.to(device)\n",
    "            optimizer.zero_grad()\n",
    "            recon_batch, mu, logvar = model(data)\n",
    "\n",
    "            \n",
    "            mu_tensor = mu   \n",
    "            mu_output.append(mu_tensor)\n",
    "            mu_result = torch.cat(mu_output, dim=0)\n",
    "\n",
    "            logvar_tensor = logvar   \n",
    "            logvar_output.append(logvar_tensor)\n",
    "            logvar_result = torch.cat(logvar_output, dim=0)\n",
    "            \n"
   ]
  },
  {
   "cell_type": "code",
   "execution_count": null,
   "id": "79e57499",
   "metadata": {},
   "outputs": [],
   "source": []
  },
  {
   "cell_type": "code",
   "execution_count": 29,
   "id": "cb3f4a0f",
   "metadata": {
    "ExecuteTime": {
     "end_time": "2022-06-07T13:24:40.802698Z",
     "start_time": "2022-06-07T13:24:40.149233Z"
    }
   },
   "outputs": [],
   "source": [
    "from mpl_toolkits import mplot3d\n",
    "\n",
    "%matplotlib inline\n",
    "import numpy as np\n",
    "import matplotlib.pyplot as plt"
   ]
  },
  {
   "cell_type": "code",
   "execution_count": 30,
   "id": "574d0f7d",
   "metadata": {
    "ExecuteTime": {
     "end_time": "2022-06-07T13:24:45.526792Z",
     "start_time": "2022-06-07T13:24:45.114994Z"
    }
   },
   "outputs": [
    {
     "data": {
      "image/png": "[encoded data removed]",
      "text/plain": [
       "<Figure size 432x288 with 1 Axes>"
      ]
     },
     "metadata": {
      "needs_background": "light"
     },
     "output_type": "display_data"
    }
   ],
   "source": [
    "ax = plt.axes(projection='3d')\n",
    "\n",
    "\n",
    "# Data for three-dimensional scattered points\n",
    "winetype = data_set.wine\n",
    "zdata = mu_result[:,0].numpy()\n",
    "xdata = mu_result[:,1].numpy()\n",
    "ydata = mu_result[:,2].numpy()\n",
    "ax.scatter3D(xdata, ydata, zdata, c=winetype);"
   ]
  },
  {
   "cell_type": "code",
   "execution_count": null,
   "id": "5b0cd948",
   "metadata": {},
   "outputs": [],
   "source": []
  }
 ],
 "metadata": {
  "kernelspec": {
   "display_name": "Python 3 (ipykernel)",
   "language": "python",
   "name": "python3"
  },
  "language_info": {
   "codemirror_mode": {
    "name": "ipython",
    "version": 3
   },
   "file_extension": ".py",
   "mimetype": "text/x-python",
   "name": "python",
   "nbconvert_exporter": "python",
   "pygments_lexer": "ipython3",
   "version": "3.7.12"
  },
  "toc": {
   "base_numbering": 1,
   "nav_menu": {},
   "number_sections": true,
   "sideBar": true,
   "skip_h1_title": false,
   "title_cell": "Table of Contents",
   "title_sidebar": "Contents",
   "toc_cell": false,
   "toc_position": {},
   "toc_section_display": true,
   "toc_window_display": false
  }
 },
 "nbformat": 4,
 "nbformat_minor": 5
}

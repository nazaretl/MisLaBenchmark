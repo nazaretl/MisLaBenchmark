{
 "cells": [
  {
   "cell_type": "markdown",
   "id": "d9ef43e6",
   "metadata": {},
   "source": [
    "### Description"
   ]
  },
  {
   "cell_type": "code",
   "execution_count": 8,
   "id": "b2614073",
   "metadata": {
    "ExecuteTime": {
     "end_time": "2024-06-24T13:25:47.390535Z",
     "start_time": "2024-06-24T13:25:47.377748Z"
    }
   },
   "outputs": [],
   "source": [
    "import pandas as pd\n",
    "import os\n",
    "from glob import glob\n",
    "import matplotlib.pyplot as plt\n",
    "import matplotlib.dates as mdates\n",
    "import matplotlib.cbook as cbook\n",
    "import numpy as np\n",
    "import sys\n",
    "os.chdir('/data/cephfs-2/unmirrored/groups/ag-kircher/MisLa/MisLaReview/scripts')# run only once, or change to hard coded path\n",
    "pd.set_option('display.max_columns', 100)\n",
    "pd.set_option('display.max_rows', 100)\n",
    "pd.set_option('max_colwidth', None)\n",
    "\n",
    "\n",
    "sys.path.insert(0,'scripts/')\n",
    "#from utilsClinVar import *\n",
    "import matplotlib.style\n",
    "import matplotlib as mpl\n",
    "#mpl.style.use('classic')\n",
    "#mpl.rcParams['image.cmap'] = 'jet'\n",
    "os.chdir('/data/cephfs-2/unmirrored/groups/ag-kircher/MisLa/MisLaReview')# run only once, or change to hard coded path\n",
    "from tqdm import tqdm\n"
   ]
  },
  {
   "cell_type": "markdown",
   "id": "3cd542ca",
   "metadata": {},
   "source": [
    "### Read file with labels for each year and LabelOld and LabelNew"
   ]
  },
  {
   "cell_type": "code",
   "execution_count": 2,
   "id": "806ae549",
   "metadata": {
    "ExecuteTime": {
     "end_time": "2024-06-24T13:25:02.013568Z",
     "start_time": "2024-06-24T13:24:33.848459Z"
    }
   },
   "outputs": [
    {
     "name": "stderr",
     "output_type": "stream",
     "text": [
      "/data/gpfs-1/scratch/users/nazaretl_c/tmp/ipykernel_795486/4205505457.py:1: DtypeWarning: Columns (0) have mixed types. Specify dtype option on import or set low_memory=False.\n",
      "  allYears = pd.read_csv('dataProduced/ClinVarTwoLabelsSample.csv.gz', sep = '\\t', compression = 'zip')\n"
     ]
    },
    {
     "name": "stdout",
     "output_type": "stream",
     "text": [
      "(2120423, 105)\n",
      "(2017210, 105)\n"
     ]
    }
   ],
   "source": [
    "allYears = pd.read_csv('dataProduced/ClinVarTwoLabelsSample.csv.gz', sep = '\\t', compression = 'zip') \n",
    "print(allYears.shape)\n",
    "\n",
    "# delete conflicting variants\n",
    "allYears = allYears[~((allYears['LabelOld'].str.contains('Conflicting'))|(allYears['LabelNew'].str.contains('Conflicting')))]#.sum()\n",
    "print(allYears.shape)\n",
    "allYears = allYears.replace('Conflicting', np.nan)\n"
   ]
  },
  {
   "cell_type": "code",
   "execution_count": null,
   "id": "28de715a",
   "metadata": {
    "collapsed": true
   },
   "outputs": [],
   "source": []
  },
  {
   "cell_type": "code",
   "execution_count": null,
   "id": "be644022",
   "metadata": {
    "ExecuteTime": {
     "end_time": "2024-02-05T14:52:19.899793Z",
     "start_time": "2024-02-05T14:51:59.835318Z"
    },
    "collapsed": true
   },
   "outputs": [],
   "source": [
    "# in the script (dont run)\n",
    "allYears = allYears[~((allYears['LabelOld'].str.contains('Conflicting'))|(allYears['LabelNew'].str.contains('Conflicting')))]#.sum()\n",
    "\n",
    "noisy = allYears[allYears['LabelOld']!=allYears['LabelNew']]\n",
    "noisy = noisy[~((noisy['LabelOld'].str.contains('Conflicting'))|(noisy['LabelNew'].str.contains('Conflicting')))]#.sum()\n",
    "print(noisy.shape)\n",
    "rest = allYears[allYears['LabelOld']==allYears['LabelNew']]\n",
    "\n",
    "rest.columns[4]\n",
    "rest.columns[77]\n",
    "temp = rest.iloc[:,4:77].dropna(how = 'all')\n",
    "\n",
    "ind = temp.index\n",
    "cols = ['Chromosome', 'Start','Ref','Alt','LabelOld','LabelNew']\n",
    "clean = rest.loc[ind,cols]\n",
    "noisy = noisy[cols]\n",
    "\n",
    "df = pd.concat([clean, noisy])\n",
    "\n",
    "#df.to_csv('dataProduced/ClinVarTwoLabelsJune23Sample.csv.gz',sep = '\\t',index = False,\n",
    " #        compression = 'zip')'"
   ]
  },
  {
   "cell_type": "code",
   "execution_count": null,
   "id": "1e08048f",
   "metadata": {
    "ExecuteTime": {
     "end_time": "2024-02-05T14:52:19.961922Z",
     "start_time": "2024-02-05T14:52:19.901616Z"
    },
    "collapsed": true
   },
   "outputs": [],
   "source": [
    "pd.crosstab(noisy['LabelOld'],noisy['LabelNew'])"
   ]
  },
  {
   "cell_type": "markdown",
   "id": "41d336cf",
   "metadata": {
    "ExecuteTime": {
     "end_time": "2021-05-31T15:07:07.263575Z",
     "start_time": "2021-05-31T15:07:07.259807Z"
    }
   },
   "source": [
    "#### Create VCF vor annotating the variants"
   ]
  },
  {
   "cell_type": "code",
   "execution_count": null,
   "id": "bfad7c8c",
   "metadata": {
    "ExecuteTime": {
     "end_time": "2023-01-31T13:10:10.354313Z",
     "start_time": "2023-01-31T13:10:10.348739Z"
    },
    "collapsed": true
   },
   "outputs": [],
   "source": []
  },
  {
   "cell_type": "code",
   "execution_count": null,
   "id": "c2731598",
   "metadata": {
    "collapsed": true
   },
   "outputs": [],
   "source": []
  },
  {
   "cell_type": "code",
   "execution_count": null,
   "id": "e5373d11",
   "metadata": {
    "ExecuteTime": {
     "end_time": "2023-01-31T13:00:36.834362Z",
     "start_time": "2023-01-31T13:00:35.554186Z"
    },
    "collapsed": true
   },
   "outputs": [],
   "source": [
    "allYears = allYears.iloc[:100,0:4]\n",
    "\n",
    "# sort -k1,1 -k2,2n -k3,3 -k4,4\n",
    "cols = ['Chromosome', 'Start', 'Ref', 'Alt']\n",
    "\n",
    "allYears.sort_values(cols)\n",
    "\n",
    "cols = ['Chromosome', 'Start', 'Ref', 'Alt']\n",
    "\n",
    "vcf = allYears[cols]\n",
    "vcf.columns = [\"#CHROM\",'POS','REF','ALT']\n",
    "\n",
    "vcf[['ID', 'QUAL','FILTER','INFO']] = '.'\n",
    "vcf.columns = [\"#CHROM\",'POS','ID','REF','ALT','QUAL','FILTER','INFO']\n",
    "\n",
    "string = '##fileformat=VCFv4.1'\n",
    "                    \n",
    "cols = [string,'','','','','','','']\n",
    "vcf = vcf.T.reset_index().T \n",
    "vcf.columns = cols\n",
    "display(vcf)\n",
    "file = 'test.vcf'\n",
    "\n",
    "# vcf.to_csv(file, sep = '\\t', index = None) \n"
   ]
  },
  {
   "cell_type": "markdown",
   "id": "d794885d",
   "metadata": {
    "ExecuteTime": {
     "end_time": "2021-06-01T08:37:50.031074Z",
     "start_time": "2021-06-01T08:37:50.027184Z"
    }
   },
   "source": [
    "### Short analysis "
   ]
  },
  {
   "cell_type": "markdown",
   "id": "47a32562",
   "metadata": {},
   "source": [
    "#### Changes of CS over the monthes"
   ]
  },
  {
   "cell_type": "code",
   "execution_count": 3,
   "id": "79b01a75",
   "metadata": {
    "ExecuteTime": {
     "end_time": "2024-06-24T13:25:04.438737Z",
     "start_time": "2024-06-24T13:25:02.015911Z"
    }
   },
   "outputs": [],
   "source": [
    "f = allYears.iloc[:,4:-3]\n",
    "dates = f.columns"
   ]
  },
  {
   "cell_type": "code",
   "execution_count": 11,
   "id": "18584377",
   "metadata": {
    "ExecuteTime": {
     "end_time": "2024-06-17T10:36:46.917804Z",
     "start_time": "2024-06-17T10:29:06.804542Z"
    },
    "collapsed": true
   },
   "outputs": [
    {
     "ename": "KeyboardInterrupt",
     "evalue": "",
     "output_type": "error",
     "traceback": [
      "\u001b[0;31m---------------------------------------------------------------------------\u001b[0m",
      "\u001b[0;31mKeyboardInterrupt\u001b[0m                         Traceback (most recent call last)",
      "Input \u001b[0;32mIn [11]\u001b[0m, in \u001b[0;36m<cell line: 5>\u001b[0;34m()\u001b[0m\n\u001b[1;32m      4\u001b[0m old_news \u001b[38;5;241m=\u001b[39m []\n\u001b[1;32m      5\u001b[0m \u001b[38;5;28;01mfor\u001b[39;00m col \u001b[38;5;129;01min\u001b[39;00m temp\u001b[38;5;241m.\u001b[39mcolumns[:]:\n\u001b[0;32m----> 6\u001b[0m     l \u001b[38;5;241m=\u001b[39m \u001b[38;5;28mlist\u001b[39m(temp[col][\u001b[38;5;241m~\u001b[39m\u001b[43mtemp\u001b[49m\u001b[43m[\u001b[49m\u001b[43mcol\u001b[49m\u001b[43m]\u001b[49m\u001b[38;5;241;43m.\u001b[39;49m\u001b[43misna\u001b[49m\u001b[43m(\u001b[49m\u001b[43m)\u001b[49m]\u001b[38;5;241m.\u001b[39munique())\n\u001b[1;32m      7\u001b[0m     li\u001b[38;5;241m.\u001b[39mappend(l)\n\u001b[1;32m      8\u001b[0m     \u001b[38;5;28;01mif\u001b[39;00m \u001b[38;5;28mlen\u001b[39m(l)\u001b[38;5;241m>\u001b[39m\u001b[38;5;241m1\u001b[39m:\n",
      "File \u001b[0;32m~/work/miniconda/lib/python3.9/site-packages/pandas/core/series.py:5712\u001b[0m, in \u001b[0;36mSeries.isna\u001b[0;34m(self)\u001b[0m\n\u001b[1;32m   5710\u001b[0m \u001b[38;5;129m@doc\u001b[39m(NDFrame\u001b[38;5;241m.\u001b[39misna, klass\u001b[38;5;241m=\u001b[39m_shared_doc_kwargs[\u001b[38;5;124m\"\u001b[39m\u001b[38;5;124mklass\u001b[39m\u001b[38;5;124m\"\u001b[39m])  \u001b[38;5;66;03m# type: ignore[has-type]\u001b[39;00m\n\u001b[1;32m   5711\u001b[0m \u001b[38;5;28;01mdef\u001b[39;00m \u001b[38;5;21misna\u001b[39m(\u001b[38;5;28mself\u001b[39m) \u001b[38;5;241m-\u001b[39m\u001b[38;5;241m>\u001b[39m Series:  \u001b[38;5;66;03m# type: ignore[override]\u001b[39;00m\n\u001b[0;32m-> 5712\u001b[0m     \u001b[38;5;28;01mreturn\u001b[39;00m \u001b[43mNDFrame\u001b[49m\u001b[38;5;241;43m.\u001b[39;49m\u001b[43misna\u001b[49m\u001b[43m(\u001b[49m\u001b[38;5;28;43mself\u001b[39;49m\u001b[43m)\u001b[49m\n",
      "File \u001b[0;32m~/work/miniconda/lib/python3.9/site-packages/pandas/core/generic.py:7831\u001b[0m, in \u001b[0;36mNDFrame.isna\u001b[0;34m(self)\u001b[0m\n\u001b[1;32m   7770\u001b[0m \u001b[38;5;129m@doc\u001b[39m(klass\u001b[38;5;241m=\u001b[39m_shared_doc_kwargs[\u001b[38;5;124m\"\u001b[39m\u001b[38;5;124mklass\u001b[39m\u001b[38;5;124m\"\u001b[39m])\n\u001b[1;32m   7771\u001b[0m \u001b[38;5;28;01mdef\u001b[39;00m \u001b[38;5;21misna\u001b[39m(\u001b[38;5;28mself\u001b[39m: NDFrameT) \u001b[38;5;241m-\u001b[39m\u001b[38;5;241m>\u001b[39m NDFrameT:\n\u001b[1;32m   7772\u001b[0m \u001b[38;5;250m    \u001b[39m\u001b[38;5;124;03m\"\"\"\u001b[39;00m\n\u001b[1;32m   7773\u001b[0m \u001b[38;5;124;03m    Detect missing values.\u001b[39;00m\n\u001b[1;32m   7774\u001b[0m \n\u001b[0;32m   (...)\u001b[0m\n\u001b[1;32m   7829\u001b[0m \u001b[38;5;124;03m    dtype: bool\u001b[39;00m\n\u001b[1;32m   7830\u001b[0m \u001b[38;5;124;03m    \"\"\"\u001b[39;00m\n\u001b[0;32m-> 7831\u001b[0m     \u001b[38;5;28;01mreturn\u001b[39;00m \u001b[43misna\u001b[49m\u001b[43m(\u001b[49m\u001b[38;5;28;43mself\u001b[39;49m\u001b[43m)\u001b[49m\u001b[38;5;241m.\u001b[39m__finalize__(\u001b[38;5;28mself\u001b[39m, method\u001b[38;5;241m=\u001b[39m\u001b[38;5;124m\"\u001b[39m\u001b[38;5;124misna\u001b[39m\u001b[38;5;124m\"\u001b[39m)\n",
      "File \u001b[0;32m~/work/miniconda/lib/python3.9/site-packages/pandas/core/dtypes/missing.py:185\u001b[0m, in \u001b[0;36misna\u001b[0;34m(obj)\u001b[0m\n\u001b[1;32m    108\u001b[0m \u001b[38;5;28;01mdef\u001b[39;00m \u001b[38;5;21misna\u001b[39m(obj: \u001b[38;5;28mobject\u001b[39m) \u001b[38;5;241m-\u001b[39m\u001b[38;5;241m>\u001b[39m \u001b[38;5;28mbool\u001b[39m \u001b[38;5;241m|\u001b[39m npt\u001b[38;5;241m.\u001b[39mNDArray[np\u001b[38;5;241m.\u001b[39mbool_] \u001b[38;5;241m|\u001b[39m NDFrame:\n\u001b[1;32m    109\u001b[0m \u001b[38;5;250m    \u001b[39m\u001b[38;5;124;03m\"\"\"\u001b[39;00m\n\u001b[1;32m    110\u001b[0m \u001b[38;5;124;03m    Detect missing values for an array-like object.\u001b[39;00m\n\u001b[1;32m    111\u001b[0m \n\u001b[0;32m   (...)\u001b[0m\n\u001b[1;32m    183\u001b[0m \u001b[38;5;124;03m    Name: 1, dtype: bool\u001b[39;00m\n\u001b[1;32m    184\u001b[0m \u001b[38;5;124;03m    \"\"\"\u001b[39;00m\n\u001b[0;32m--> 185\u001b[0m     \u001b[38;5;28;01mreturn\u001b[39;00m \u001b[43m_isna\u001b[49m\u001b[43m(\u001b[49m\u001b[43mobj\u001b[49m\u001b[43m)\u001b[49m\n",
      "File \u001b[0;32m~/work/miniconda/lib/python3.9/site-packages/pandas/core/dtypes/missing.py:225\u001b[0m, in \u001b[0;36m_isna\u001b[0;34m(obj, inf_as_na)\u001b[0m\n\u001b[1;32m    223\u001b[0m     result \u001b[38;5;241m=\u001b[39m _isna_array(obj\u001b[38;5;241m.\u001b[39m_values, inf_as_na\u001b[38;5;241m=\u001b[39minf_as_na)\n\u001b[1;32m    224\u001b[0m     \u001b[38;5;66;03m# box\u001b[39;00m\n\u001b[0;32m--> 225\u001b[0m     result \u001b[38;5;241m=\u001b[39m \u001b[43mobj\u001b[49m\u001b[38;5;241;43m.\u001b[39;49m\u001b[43m_constructor\u001b[49m\u001b[43m(\u001b[49m\u001b[43mresult\u001b[49m\u001b[43m,\u001b[49m\u001b[43m \u001b[49m\u001b[43mindex\u001b[49m\u001b[38;5;241;43m=\u001b[39;49m\u001b[43mobj\u001b[49m\u001b[38;5;241;43m.\u001b[39;49m\u001b[43mindex\u001b[49m\u001b[43m,\u001b[49m\u001b[43m \u001b[49m\u001b[43mname\u001b[49m\u001b[38;5;241;43m=\u001b[39;49m\u001b[43mobj\u001b[49m\u001b[38;5;241;43m.\u001b[39;49m\u001b[43mname\u001b[49m\u001b[43m,\u001b[49m\u001b[43m \u001b[49m\u001b[43mcopy\u001b[49m\u001b[38;5;241;43m=\u001b[39;49m\u001b[38;5;28;43;01mFalse\u001b[39;49;00m\u001b[43m)\u001b[49m\n\u001b[1;32m    226\u001b[0m     \u001b[38;5;28;01mreturn\u001b[39;00m result\n\u001b[1;32m    227\u001b[0m \u001b[38;5;28;01melif\u001b[39;00m \u001b[38;5;28misinstance\u001b[39m(obj, ABCDataFrame):\n",
      "File \u001b[0;32m~/work/miniconda/lib/python3.9/site-packages/pandas/core/series.py:471\u001b[0m, in \u001b[0;36mSeries.__init__\u001b[0;34m(self, data, index, dtype, name, copy, fastpath)\u001b[0m\n\u001b[1;32m    469\u001b[0m         data \u001b[38;5;241m=\u001b[39m data\u001b[38;5;241m.\u001b[39mcopy()\n\u001b[1;32m    470\u001b[0m \u001b[38;5;28;01melse\u001b[39;00m:\n\u001b[0;32m--> 471\u001b[0m     data \u001b[38;5;241m=\u001b[39m \u001b[43msanitize_array\u001b[49m\u001b[43m(\u001b[49m\u001b[43mdata\u001b[49m\u001b[43m,\u001b[49m\u001b[43m \u001b[49m\u001b[43mindex\u001b[49m\u001b[43m,\u001b[49m\u001b[43m \u001b[49m\u001b[43mdtype\u001b[49m\u001b[43m,\u001b[49m\u001b[43m \u001b[49m\u001b[43mcopy\u001b[49m\u001b[43m)\u001b[49m\n\u001b[1;32m    473\u001b[0m     manager \u001b[38;5;241m=\u001b[39m get_option(\u001b[38;5;124m\"\u001b[39m\u001b[38;5;124mmode.data_manager\u001b[39m\u001b[38;5;124m\"\u001b[39m)\n\u001b[1;32m    474\u001b[0m     \u001b[38;5;28;01mif\u001b[39;00m manager \u001b[38;5;241m==\u001b[39m \u001b[38;5;124m\"\u001b[39m\u001b[38;5;124mblock\u001b[39m\u001b[38;5;124m\"\u001b[39m:\n",
      "File \u001b[0;32m~/work/miniconda/lib/python3.9/site-packages/pandas/core/construction.py:553\u001b[0m, in \u001b[0;36msanitize_array\u001b[0;34m(data, index, dtype, copy, raise_cast_failure, allow_2d)\u001b[0m\n\u001b[1;32m    550\u001b[0m     \u001b[38;5;28;01mreturn\u001b[39;00m data\n\u001b[1;32m    552\u001b[0m \u001b[38;5;66;03m# GH#846\u001b[39;00m\n\u001b[0;32m--> 553\u001b[0m \u001b[38;5;28;01mif\u001b[39;00m \u001b[38;5;28;43misinstance\u001b[39;49m(data, np\u001b[38;5;241m.\u001b[39mndarray):\n\u001b[1;32m    554\u001b[0m     \u001b[38;5;28;01mif\u001b[39;00m \u001b[38;5;28misinstance\u001b[39m(data, np\u001b[38;5;241m.\u001b[39mmatrix):\n\u001b[1;32m    555\u001b[0m         data \u001b[38;5;241m=\u001b[39m data\u001b[38;5;241m.\u001b[39mA\n",
      "\u001b[0;31mKeyboardInterrupt\u001b[0m: "
     ]
    }
   ],
   "source": [
    "# dont run, only rechecking the number of noisy instances\n",
    "temp = f.iloc[:,:].T\n",
    "li = []\n",
    "old_news = []\n",
    "for col in temp.columns[:]:\n",
    "    l = list(temp[col][~temp[col].isna()].unique())\n",
    "    li.append(l)\n",
    "    if len(l)>1:\n",
    "        old_new = [l[0], l[-1]]\n",
    "    else:\n",
    "        old_new = [l[0], l[0]]\n",
    "    old_news.append(old_new)\n",
    "    \n",
    "old_news_df = pd.DataFrame(old_news)\n",
    "(old_news_df[0]!=old_news_df[1]).sum()"
   ]
  },
  {
   "cell_type": "code",
   "execution_count": 4,
   "id": "bd969276",
   "metadata": {
    "ExecuteTime": {
     "end_time": "2024-06-24T13:25:08.735802Z",
     "start_time": "2024-06-24T13:25:04.440270Z"
    }
   },
   "outputs": [
    {
     "data": {
      "text/plain": [
       "Index(['VUS-Benign', 'Pathogenic-VUS', 'VUS-Pathogenic', 'Benign-VUS',\n",
       "       'Pathogenic-Benign', 'Benign-Pathogenic'],\n",
       "      dtype='object')"
      ]
     },
     "execution_count": 4,
     "metadata": {},
     "output_type": "execute_result"
    }
   ],
   "source": [
    "changes = allYears[allYears['LabelOld']!=allYears['LabelNew']].reset_index(drop = True)\n",
    "\n",
    "ind_new = (changes['LabelOld'] + '-' + changes['LabelNew'] ).value_counts().index\n",
    "ind_new"
   ]
  },
  {
   "cell_type": "code",
   "execution_count": 5,
   "id": "d9914288",
   "metadata": {
    "ExecuteTime": {
     "end_time": "2024-06-24T13:25:09.527082Z",
     "start_time": "2024-06-24T13:25:08.738046Z"
    }
   },
   "outputs": [],
   "source": [
    "# redifine f as only changes to run quicker\n",
    "f = changes.iloc[:,4:-3].fillna(method = 'ffill', axis = 1)"
   ]
  },
  {
   "cell_type": "code",
   "execution_count": null,
   "id": "f7629b8f",
   "metadata": {
    "collapsed": true
   },
   "outputs": [],
   "source": []
  },
  {
   "cell_type": "code",
   "execution_count": 9,
   "id": "3b094757",
   "metadata": {
    "ExecuteTime": {
     "end_time": "2024-06-24T13:26:12.849180Z",
     "start_time": "2024-06-24T13:25:50.773877Z"
    }
   },
   "outputs": [
    {
     "name": "stderr",
     "output_type": "stream",
     "text": [
      "100%|███████████████████████████████████████████████████████████████████████████| 34487/34487 [00:22<00:00, 1563.80it/s]\n"
     ]
    }
   ],
   "source": [
    "# This is a more consistent verions\n",
    "changes['Change'] = changes['LabelOld'] + '-' + changes['LabelNew']\n",
    "\n",
    "allValues = pd.DataFrame(np.zeros([len(ind_new),len(f.columns) ]))\n",
    "\n",
    "allValues.index = ind_new\n",
    "allValues.columns = f.columns\n",
    "\n",
    "allValues.index = ind_new\n",
    "allValues.columns = f.columns\n",
    "\n",
    "for i in tqdm(range(len(changes))):\n",
    "    #changes.iloc[i,:][changes.iloc[i,:] == changes.loc[i,'LabelOld']].index[0]\n",
    "    time = changes.iloc[i,:][changes.iloc[i,:] == changes.loc[i,'LabelNew']].index[0]\n",
    "    change = changes.loc[i,'Change']\n",
    "\n",
    "    allValues.loc[change, time] += 1\n",
    "    "
   ]
  },
  {
   "cell_type": "code",
   "execution_count": 10,
   "id": "5d6b50b9",
   "metadata": {
    "ExecuteTime": {
     "end_time": "2024-06-24T13:26:12.857059Z",
     "start_time": "2024-06-24T13:26:12.851205Z"
    }
   },
   "outputs": [
    {
     "data": {
      "text/plain": [
       "VUS-Benign           22476.0\n",
       "Pathogenic-VUS        4767.0\n",
       "VUS-Pathogenic        4731.0\n",
       "Benign-VUS            1918.0\n",
       "Pathogenic-Benign      553.0\n",
       "Benign-Pathogenic       42.0\n",
       "dtype: float64"
      ]
     },
     "execution_count": 10,
     "metadata": {},
     "output_type": "execute_result"
    }
   ],
   "source": [
    "allValues.sum(axis = 1)"
   ]
  },
  {
   "cell_type": "code",
   "execution_count": 12,
   "id": "0c9cd063",
   "metadata": {
    "ExecuteTime": {
     "end_time": "2024-06-24T13:26:23.955793Z",
     "start_time": "2024-06-24T13:26:22.788513Z"
    }
   },
   "outputs": [],
   "source": [
    "## Count the occurancies of changes (ind) over all months and years: (tn - tn+1)\n",
    "ind = ['Benign-Pathogenic', 'Benign-VUS',\n",
    "      'Pathogenic-Benign', 'Pathogenic-VUS',\n",
    "      'VUS-Benign', 'VUS-Pathogenic',\n",
    "     'Conflicting-Benign','Conflicting-Pathogenic',\n",
    "      'Conflicting-VUS','VUS-Conflicting',\n",
    "     'Pathogenic-Conflicting','Benigh-Conflicting']\n",
    "allValuesSample = pd.DataFrame(index = ind)\n",
    "## TAKE onyk the onse that were present in the first year??\n",
    "fSample = f[~f['2015-06'].isna()]\n",
    "n = fSample.shape[1]\n",
    "\n",
    "for col in range(0, n-1):\n",
    "    values = []\n",
    "    names = []\n",
    "    table = pd.crosstab(fSample.iloc[:,col],fSample.iloc[:,col+1],normalize = False)\n",
    "    for i in range(3):\n",
    "        for j in range(3):\n",
    "            if i!=j:\n",
    "                name = table.index[i] + '-' + table.columns[j]\n",
    "                value = table.iloc[i,j]\n",
    "                names.append(name)\n",
    "                values.append(value)\n",
    "    df = pd.DataFrame(values,names)\n",
    "    df.columns = [f.iloc[:,col].name]\n",
    "  \n",
    "    allValuesSample = allValuesSample.join(df, how = 'left')\n",
    "    \n",
    "#allValues = allValues/allValues.sum()\n",
    "#allValues.columns = dates[1:]\n",
    "allValuesSampleRel = allValuesSample/allValuesSample.sum()\n",
    "\n",
    "# Value count of ClinicalSignificance in all data sets\n",
    "classes = ['VUS','Conflicting','Pathogenic','Benign']\n",
    "col = 'CS'\n",
    "countSample = pd.DataFrame(index = classes)\n",
    "#date = []\n",
    "for col in f:\n",
    "    d = fSample[col].value_counts(normalize = True)\n",
    "    countSample = countSample.join(d, lsuffix ='', rsuffix = str(i),how = 'outer')\n",
    "       # date.append(str(i+1)+ '-' +str(years[j]))\n",
    "countSample.columns = dates\n",
    "countSample = countSample.sort_values(countSample.columns[0],ascending = False)\n",
    "\n"
   ]
  },
  {
   "cell_type": "code",
   "execution_count": 13,
   "id": "a6ffed23",
   "metadata": {
    "ExecuteTime": {
     "end_time": "2024-06-24T13:26:27.362347Z",
     "start_time": "2024-06-24T13:26:27.354989Z"
    }
   },
   "outputs": [
    {
     "data": {
      "text/plain": [
       "4364.0"
      ]
     },
     "execution_count": 13,
     "metadata": {},
     "output_type": "execute_result"
    }
   ],
   "source": [
    "allValuesSample.sum(axis = 1).sum()"
   ]
  },
  {
   "cell_type": "code",
   "execution_count": 14,
   "id": "d3ef7886",
   "metadata": {
    "ExecuteTime": {
     "end_time": "2024-06-24T13:26:32.363864Z",
     "start_time": "2024-06-24T13:26:32.355413Z"
    }
   },
   "outputs": [],
   "source": [
    "allValuesRel = allValues/allValues.sum()\n",
    "allValuesRel.columns = allValuesRel.columns.str.replace('CS_','')"
   ]
  },
  {
   "cell_type": "code",
   "execution_count": 15,
   "id": "35c8647b",
   "metadata": {
    "ExecuteTime": {
     "end_time": "2024-06-24T13:26:34.408541Z",
     "start_time": "2024-06-24T13:26:34.073529Z"
    }
   },
   "outputs": [],
   "source": [
    "# Value count of ClinicalSignificance in all data sets\n",
    "classes = ['VUS','Conflicting','Pathogenic','Benign']\n",
    "col = 'CS'\n",
    "count = pd.DataFrame(index = classes)\n",
    "#date = []\n",
    "for col in f:\n",
    "    d = f[col].value_counts(normalize = True)\n",
    "    count = count.join(d, lsuffix ='', rsuffix = str(i),how = 'outer')\n",
    "       # date.append(str(i+1)+ '-' +str(years[j]))\n",
    "count.columns = dates\n",
    "count = count.sort_values(count.columns[0],ascending = False)\n"
   ]
  },
  {
   "cell_type": "code",
   "execution_count": 16,
   "id": "63ac5ac7",
   "metadata": {
    "ExecuteTime": {
     "end_time": "2024-06-24T13:26:36.471829Z",
     "start_time": "2024-06-24T13:26:36.465782Z"
    }
   },
   "outputs": [
    {
     "data": {
      "text/plain": [
       "VUS-Benign           33.568374\n",
       "Pathogenic-VUS       34.361184\n",
       "VUS-Pathogenic       19.269892\n",
       "Benign-VUS            5.367709\n",
       "Pathogenic-Benign     3.261289\n",
       "Benign-Pathogenic     1.171552\n",
       "dtype: float64"
      ]
     },
     "execution_count": 16,
     "metadata": {},
     "output_type": "execute_result"
    }
   ],
   "source": [
    "allValuesRel.sum(axis = 1)"
   ]
  },
  {
   "cell_type": "markdown",
   "id": "1e1a3995",
   "metadata": {
    "ExecuteTime": {
     "end_time": "2021-04-12T13:44:22.771743Z",
     "start_time": "2021-04-12T13:44:22.758154Z"
    }
   },
   "source": [
    "### Number of variants in the ClinVar DB "
   ]
  },
  {
   "cell_type": "code",
   "execution_count": 20,
   "id": "857ed4ec",
   "metadata": {
    "ExecuteTime": {
     "end_time": "2024-06-24T13:27:17.795977Z",
     "start_time": "2024-06-24T13:26:56.897952Z"
    }
   },
   "outputs": [],
   "source": [
    "\n",
    "import seaborn as sns\n",
    "\n",
    "sns.set_palette(\n",
    "sns.color_palette(\"deep\"))\n",
    "colors = ['gold','olivedrab','green','brown','darkgrey',\n",
    "         'darkseagreen','steelblue']\n",
    "sns.set_palette(colors)\n"
   ]
  },
  {
   "cell_type": "code",
   "execution_count": 17,
   "id": "80f134fc",
   "metadata": {
    "ExecuteTime": {
     "end_time": "2024-06-24T13:26:48.209024Z",
     "start_time": "2024-06-24T13:26:38.937903Z"
    }
   },
   "outputs": [],
   "source": [
    "st = allYears.iloc[:,4:-3].apply(lambda x: len(x[~x.isna()]))\n"
   ]
  },
  {
   "cell_type": "code",
   "execution_count": null,
   "id": "1f8cca3a",
   "metadata": {
    "ExecuteTime": {
     "end_time": "2024-06-24T13:29:30.084712Z",
     "start_time": "2024-06-24T13:29:30.079362Z"
    }
   },
   "outputs": [],
   "source": []
  },
  {
   "cell_type": "code",
   "execution_count": 29,
   "id": "b84101d9",
   "metadata": {
    "ExecuteTime": {
     "end_time": "2024-06-24T13:30:14.781661Z",
     "start_time": "2024-06-24T13:30:14.197148Z"
    }
   },
   "outputs": [
    {
     "data": {
      "image/png": "[encoded data removed]",
      "text/plain": [
       "<Figure size 700x500 with 1 Axes>"
      ]
     },
     "metadata": {},
     "output_type": "display_data"
    }
   ],
   "source": [
    "import matplotlib\n",
    "#matplotlib.style.use('ggplot')\n",
    "fig, ax = plt.subplots(figsize = (7,5))\n",
    "ax.plot(pd.to_datetime(st.index), st)\n",
    "fmt_half_year = mdates.MonthLocator(interval=6)\n",
    "ax.xaxis.set_major_locator(fmt_half_year)\n",
    "\n",
    "# Minor ticks every month.\n",
    "fmt_month = mdates.MonthLocator()\n",
    "ax.xaxis.set_minor_locator(fmt_month)\n",
    "\n",
    "ax.xaxis.set_major_formatter(mdates.DateFormatter('%Y-%m'))\n",
    "ax.format_xdata = mdates.DateFormatter('%Y-%m')\n",
    "ax.format_ydata = lambda x: f'${x:.2f}'  # Format the price.\n",
    "ax.grid(True)\n",
    "\n",
    "fig.autofmt_xdate()\n",
    "title = 'Number of varints. ID: Position + AlleleID'\n",
    "plt.title(title)\n",
    "#plt.savefig('figures/'+ title + '.png')\n",
    "\n",
    "plt.show()"
   ]
  },
  {
   "cell_type": "code",
   "execution_count": 21,
   "id": "dc965eed",
   "metadata": {
    "ExecuteTime": {
     "end_time": "2024-06-24T13:27:17.802715Z",
     "start_time": "2024-06-24T13:27:17.798099Z"
    }
   },
   "outputs": [],
   "source": []
  },
  {
   "cell_type": "code",
   "execution_count": 22,
   "id": "d60ba369",
   "metadata": {
    "ExecuteTime": {
     "end_time": "2024-06-24T13:27:17.812517Z",
     "start_time": "2024-06-24T13:27:17.804232Z"
    }
   },
   "outputs": [],
   "source": [
    "allValuesCumSum = allValues.cumsum(axis = 1)\n",
    "allValuesCumSum.index = allValuesCumSum.index.str.replace('-', ' \\u2192 ')"
   ]
  },
  {
   "cell_type": "code",
   "execution_count": 23,
   "id": "bac7e120",
   "metadata": {
    "ExecuteTime": {
     "end_time": "2024-06-24T13:27:19.568648Z",
     "start_time": "2024-06-24T13:27:17.814561Z"
    }
   },
   "outputs": [
    {
     "data": {
      "image/png": "[encoded data removed]",
      "text/plain": [
       "<Figure size 1600x500 with 1 Axes>"
      ]
     },
     "metadata": {},
     "output_type": "display_data"
    }
   ],
   "source": [
    "from datetime import datetime\n",
    "def plotChnages(count, title,width = 30,ncol = 6):\n",
    "\n",
    "    fig, ax = plt.subplots(figsize=(16,5))  \n",
    "    N = count.shape[1]\n",
    "    width = 0.35\n",
    "    #r = list(range(count.shape[1]))\n",
    "   # display(count)\n",
    "    r = pd.to_datetime(count.columns)\n",
    "    rest = []\n",
    "    ind = count.sum(axis= 1).sort_values(ascending = True).index\n",
    "    count  = count.loc[ind,]\n",
    "    for i in count.index:\n",
    "        ax.bar(r, count[count.index==i].values.squeeze(),bottom = count[count.index.isin(rest)].sum().values,\n",
    "               width=28,label = i )\n",
    "        rest.append(i)\n",
    "\n",
    "    fmt_half_year = mdates.MonthLocator(interval=6)\n",
    "    ax.xaxis.set_major_locator(fmt_half_year)\n",
    "    fmt_month = mdates.MonthLocator()\n",
    "    ax.xaxis.set_minor_locator(fmt_month)\n",
    "\n",
    "    ax.xaxis.set_major_formatter(mdates.DateFormatter('%b-%y'))\n",
    "    #ax.format_xdata = mdates.DateFormatter('%Y-%m')\n",
    "    ax.format_ydata = lambda x: f'${x:.2f}'  # Format the price.\n",
    "   # plt.title(label = title)\n",
    "    plt.legend(loc='lower center', bbox_to_anchor=(0.5, -0.2),\n",
    "          fancybox=False, shadow=False, ncol=ncol, fontsize = 11)   \n",
    "    plt.xlim(datetime(2015,6,1),datetime(2023,6,1))\n",
    "    plt.ylim(0,2000)\n",
    "    #plt.yscale('log')\n",
    "  \n",
    "    #plt.tight_layout()\n",
    "    plt.savefig('figuresNew/'+ title + '.png', dpi = 150)\n",
    "    plt.show()\n",
    "    \n",
    "    \n",
    "sns.set_palette(\n",
    "sns.color_palette(\"Set3\"))\n",
    "plotChnages(allValues,'ClinVarAbsChangesLim') #absolute\n"
   ]
  },
  {
   "cell_type": "code",
   "execution_count": null,
   "id": "cfb902c0",
   "metadata": {
    "ExecuteTime": {
     "end_time": "2024-02-06T15:22:45.130615Z",
     "start_time": "2024-02-06T15:22:45.126706Z"
    }
   },
   "outputs": [],
   "source": []
  },
  {
   "cell_type": "code",
   "execution_count": 24,
   "id": "e5d30152",
   "metadata": {
    "ExecuteTime": {
     "end_time": "2024-06-24T13:27:20.883655Z",
     "start_time": "2024-06-24T13:27:19.570320Z"
    }
   },
   "outputs": [
    {
     "data": {
      "image/png": "[encoded data removed]",
      "text/plain": [
       "<Figure size 1600x500 with 2 Axes>"
      ]
     },
     "metadata": {},
     "output_type": "display_data"
    }
   ],
   "source": [
    "from datetime import datetime\n",
    "from matplotlib import ticker\n",
    "import matplotlib.ticker as mt\n",
    "\n",
    "\n",
    "def plotChnages(count, title,width = 30,ncol = 6):\n",
    "\n",
    "    fig, ax = plt.subplots(figsize=(16,5))  \n",
    "    N = count.shape[1]\n",
    "    width = 0.35\n",
    "    #r = list(range(count.shape[1]))\n",
    "   # display(count)\n",
    "    r = pd.to_datetime(count.columns)\n",
    "    rest = []\n",
    "    ind = count.sum(axis= 1).sort_values(ascending = True).index\n",
    "    count  = count.loc[ind,]\n",
    "    for i in count.index:\n",
    "        ax.bar(r, count[count.index==i].values.squeeze(),bottom = count[count.index.isin(rest)].sum().values,\n",
    "               width=28,label = i )\n",
    "        rest.append(i)\n",
    "\n",
    "    fmt_half_year = mdates.MonthLocator(bymonth=(6))\n",
    "    ax.xaxis.set_major_locator(fmt_half_year)\n",
    "    fmt_month = mdates.MonthLocator()\n",
    "    ax.xaxis.set_minor_locator(fmt_month)\n",
    "\n",
    "    ax.xaxis.set_major_formatter(mdates.DateFormatter('%b-%y'))\n",
    "    #ax.format_xdata = mdates.DateFormatter('%Y-%m')\n",
    "    ax.format_ydata = lambda x: f'${x:.2f}' \n",
    "   # plt.title(label = title)\n",
    "\n",
    "    ax.yaxis.set_major_formatter(mt.ScalarFormatter())\n",
    "    ax.ticklabel_format(style=\"sci\", axis=\"y\", scilimits=(0,2),)  \n",
    "    #ax.get_xaxis().set_tick_params(which='both', direction='out')\n",
    "\n",
    "\n",
    "\n",
    "    plt.legend(loc='lower center', bbox_to_anchor=(0.5, -0.21),\n",
    "          fancybox=False, shadow=False, ncol=ncol, fontsize = 11.5)   \n",
    "    plt.xlim(datetime(2015,6,1),datetime(2023,6,1))\n",
    "    plt.xticks(fontsize=13)\n",
    "    plt.yticks(fontsize=13)\n",
    "    \n",
    "    ax2 = ax.twinx()\n",
    "    ax2.plot(r, st, color = 'grey', label  = 'Total number of variants')\n",
    "    ax2.ticklabel_format(axis=\"y\", style=\"sci\")\n",
    "    ax2.yaxis.set_tick_params(labelsize=13)\n",
    "\n",
    "    ax2.legend(loc=0, fontsize = 13)\n",
    "\n",
    "    \n",
    "   \n",
    "    #plt.ylim(0,20000)\n",
    "    #plt.yscale('log')\n",
    "  \n",
    "    #plt.tight_layout()\n",
    "    # plt.savefig('figuresNew/'+ title + '.jpeg', dpi = 300,bbox_inches = 'tight')\n",
    "    plt.show()\n",
    "    \n",
    "    \n",
    "sns.set_palette(\n",
    "sns.color_palette(\"Set3\"))\n",
    "plotChnages(allValuesCumSum,'ClinVarAbsChangesLim') #absolute\n"
   ]
  }
 ],
 "metadata": {
  "hide_input": false,
  "kernelspec": {
   "display_name": "Python 3 (ipykernel)",
   "language": "python",
   "name": "python3"
  },
  "language_info": {
   "codemirror_mode": {
    "name": "ipython",
    "version": 3
   },
   "file_extension": ".py",
   "mimetype": "text/x-python",
   "name": "python",
   "nbconvert_exporter": "python",
   "pygments_lexer": "ipython3",
   "version": "3.9.13"
  },
  "toc": {
   "base_numbering": 1,
   "nav_menu": {},
   "number_sections": true,
   "sideBar": true,
   "skip_h1_title": false,
   "title_cell": "Table of Contents",
   "title_sidebar": "Contents",
   "toc_cell": false,
   "toc_position": {},
   "toc_section_display": true,
   "toc_window_display": false
  },
  "varInspector": {
   "cols": {
    "lenName": 16,
    "lenType": 16,
    "lenVar": 40
   },
   "kernels_config": {
    "python": {
     "delete_cmd_postfix": "",
     "delete_cmd_prefix": "del ",
     "library": "var_list.py",
     "varRefreshCmd": "print(var_dic_list())"
    },
    "r": {
     "delete_cmd_postfix": ") ",
     "delete_cmd_prefix": "rm(",
     "library": "var_list.r",
     "varRefreshCmd": "cat(var_dic_list()) "
    }
   },
   "position": {
    "height": "207.4px",
    "left": "914px",
    "right": "20px",
    "top": "-15px",
    "width": "478px"
   },
   "types_to_exclude": [
    "module",
    "function",
    "builtin_function_or_method",
    "instance",
    "_Feature"
   ],
   "window_display": true
  }
 },
 "nbformat": 4,
 "nbformat_minor": 5
}

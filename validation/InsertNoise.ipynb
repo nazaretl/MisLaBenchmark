{
 "cells": [
  {
   "cell_type": "markdown",
   "id": "faa48872",
   "metadata": {},
   "source": [
    "### Adult"
   ]
  },
  {
   "cell_type": "code",
   "execution_count": 57,
   "id": "a035385c",
   "metadata": {},
   "outputs": [
    {
     "name": "stderr",
     "output_type": "stream",
     "text": [
      "/data/gpfs-1/users/nazaretl_c/work/miniconda/lib/python3.7/site-packages/ipykernel_launcher.py:15: SettingWithCopyWarning: \n",
      "A value is trying to be set on a copy of a slice from a DataFrame.\n",
      "Try using .loc[row_indexer,col_indexer] = value instead\n",
      "\n",
      "See the caveats in the documentation: https://pandas.pydata.org/pandas-docs/stable/user_guide/indexing.html#returning-a-view-versus-a-copy\n",
      "  from ipykernel import kernelapp as app\n"
     ]
    }
   ],
   "source": [
    "from skclean.simulate_noise import flip_labels_uniform\n",
    "import pandas as pd\n",
    "   \n",
    "noise_levels = [0.05, 0.1, 0.15, 0.2, 0.25, 0.3, 0.35, 0.4, 0.45, 0.5, 0.55, 0.6, 0.65, 0.7]   \n",
    "#noise_levels = [0.05]\n",
    "name = 'Adult' \n",
    "random_state = 0000\n",
    "data = pd.read_csv(name + '.csv', sep = '\\t',header = None) \n",
    "labels = data.iloc[:,[-1]]\n",
    "labels.columns = [0]\n",
    "\n",
    "for noise_level in noise_levels:    \n",
    "   \n",
    "    noisyLabelsUniform = flip_labels_uniform(labels[0], noise_level = noise_level, random_state = random_state)#\n",
    "    labels[noise_level] = noisyLabelsUniform\n",
    "\n",
    "labels.iloc[:,1:].to_csv(name+'_NoisyLabels.csv', sep = '\\t',index = None )"
   ]
  },
  {
   "cell_type": "code",
   "execution_count": 11,
   "id": "5485e1bb",
   "metadata": {},
   "outputs": [],
   "source": [
    "df = pd.DataFrame([labels,noisyLabelsUniform]).T\n",
    "df.columns = ['Clean','Noisy']\n",
    "df.to_csv(name+'_Labels_'+str(noise_level)+'.csv', sep = '\\t',index = None )"
   ]
  },
  {
   "cell_type": "code",
   "execution_count": null,
   "id": "39e7e384",
   "metadata": {},
   "outputs": [],
   "source": []
  },
  {
   "cell_type": "code",
   "execution_count": null,
   "id": "d8007d90",
   "metadata": {},
   "outputs": [],
   "source": []
  },
  {
   "cell_type": "markdown",
   "id": "d5e78106",
   "metadata": {},
   "source": [
    "### Iris"
   ]
  },
  {
   "cell_type": "code",
   "execution_count": 18,
   "id": "7c626f40",
   "metadata": {},
   "outputs": [],
   "source": [
    "from skclean.simulate_noise import flip_labels_uniform\n",
    "import pandas as pd\n",
    "from sklearn import datasets\n",
    "import numpy as np\n",
    "iris = datasets.load_iris()\n",
    "X = iris.data\n",
    "labels = pd.DataFrame(iris.target)\n",
    "\n",
    "noise_levels = [0.05, 0.1, 0.2, 0.3, 0.4, 0.5, 0.6, 0.7]   \n",
    "name = 'Iris' \n",
    "random_state = 1234\n",
    "\n",
    "\n",
    "for noise_level in noise_levels:    \n",
    "   \n",
    "    noisyLabelsUniform = flip_labels_uniform(labels[0], noise_level = noise_level, random_state = random_state)#\n",
    "    labels[noise_level] = noisyLabelsUniform\n",
    "\n",
    "labels.iloc[:,1:].to_csv(name+'_NoisyLabels.csv', sep = '\\t',index = None )"
   ]
  },
  {
   "cell_type": "code",
   "execution_count": 38,
   "id": "052f704e",
   "metadata": {},
   "outputs": [],
   "source": [
    "df = pd.DataFrame(iris.data)\n",
    "df[4]=iris.target\n",
    "df.to_csv('Iris.csv',sep = '\\t',header = None, index = None)"
   ]
  },
  {
   "cell_type": "code",
   "execution_count": null,
   "id": "2514cbaf",
   "metadata": {},
   "outputs": [],
   "source": []
  }
 ],
 "metadata": {
  "kernelspec": {
   "display_name": "Python 3 (ipykernel)",
   "language": "python",
   "name": "python3"
  },
  "language_info": {
   "codemirror_mode": {
    "name": "ipython",
    "version": 3
   },
   "file_extension": ".py",
   "mimetype": "text/x-python",
   "name": "python",
   "nbconvert_exporter": "python",
   "pygments_lexer": "ipython3",
   "version": "3.7.12"
  }
 },
 "nbformat": 4,
 "nbformat_minor": 5
}
